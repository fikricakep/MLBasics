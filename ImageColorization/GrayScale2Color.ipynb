{
  "nbformat": 4,
  "nbformat_minor": 0,
  "metadata": {
    "colab": {
      "name": "GrayScale2Color.ipynb",
      "version": "0.3.2",
      "provenance": [],
      "collapsed_sections": []
    },
    "kernelspec": {
      "name": "python3",
      "display_name": "Python 3"
    },
    "accelerator": "GPU"
  },
  "cells": [
    {
      "metadata": {
        "id": "A_njZuzfHLmU",
        "colab_type": "code",
        "colab": {}
      },
      "cell_type": "code",
      "source": [
        "!pip3 install torch torchvision\n",
        "!pip install torchsummary\n",
        "!pip install pyunpack\n",
        "!pip install patool"
      ],
      "execution_count": 0,
      "outputs": []
    },
    {
      "metadata": {
        "id": "R35MLhUoLyIW",
        "colab_type": "code",
        "colab": {}
      },
      "cell_type": "code",
      "source": [
        "import torch.nn as nn\n",
        "#import torch.nn.functional as F\n",
        "import torch\n",
        "from torchsummary import summary\n",
        "from pyunpack import Archive\n",
        "import os\n",
        "from PIL import Image\n",
        "import numpy as np\n",
        "from IPython.display import Image\n",
        "from torch.autograd import Variable"
      ],
      "execution_count": 0,
      "outputs": []
    },
    {
      "metadata": {
        "id": "LDkC7DVu93M5",
        "colab_type": "code",
        "colab": {}
      },
      "cell_type": "code",
      "source": [
        "from google.colab import files\n",
        "files.upload()"
      ],
      "execution_count": 0,
      "outputs": []
    },
    {
      "metadata": {
        "id": "8wJ5T5bbJEeR",
        "colab_type": "code",
        "colab": {}
      },
      "cell_type": "code",
      "source": [
        "!pip install -q kaggle\n",
        "!mkdir -p ~/.kaggle\n",
        "!cp kaggle.json ~/.kaggle/\n",
        "!chmod 600 ~/.kaggle/kaggle.json"
      ],
      "execution_count": 0,
      "outputs": []
    },
    {
      "metadata": {
        "id": "Z14viB9bJEgi",
        "colab_type": "code",
        "colab": {}
      },
      "cell_type": "code",
      "source": [
        "!kaggle competitions download -c cifar-10"
      ],
      "execution_count": 0,
      "outputs": []
    },
    {
      "metadata": {
        "id": "lo_o53dvJEjR",
        "colab_type": "code",
        "outputId": "b2a1b9ac-cac0-4cb6-ce7b-2ff9453ffe4d",
        "colab": {
          "base_uri": "https://localhost:8080/",
          "height": 34
        }
      },
      "cell_type": "code",
      "source": [
        "!ls"
      ],
      "execution_count": 89,
      "outputs": [
        {
          "output_type": "stream",
          "text": [
            "generated  kaggle.json\tsample_data  test.7z  train\n"
          ],
          "name": "stdout"
        }
      ]
    },
    {
      "metadata": {
        "id": "tXWi-VunKKmf",
        "colab_type": "code",
        "colab": {}
      },
      "cell_type": "code",
      "source": [
        "#%mkdir /content/train\n",
        "Archive('train.7z').extractall('.')"
      ],
      "execution_count": 0,
      "outputs": []
    },
    {
      "metadata": {
        "id": "S8opH9xkKKp7",
        "colab_type": "code",
        "colab": {}
      },
      "cell_type": "code",
      "source": [
        ""
      ],
      "execution_count": 0,
      "outputs": []
    },
    {
      "metadata": {
        "id": "9U5ZcPZMXIH7",
        "colab_type": "code",
        "outputId": "d34a1ae9-a2c4-4da6-a3c2-64dce499f912",
        "colab": {
          "base_uri": "https://localhost:8080/",
          "height": 34
        }
      },
      "cell_type": "code",
      "source": [
        "%rm sampleSubmission.csv\n",
        "%rm train.7z\n",
        "%rm trainLabels.csv\n",
        "!ls"
      ],
      "execution_count": 0,
      "outputs": [
        {
          "output_type": "stream",
          "text": [
            "kaggle.json  sample_data  test.7z  train\n"
          ],
          "name": "stdout"
        }
      ]
    },
    {
      "metadata": {
        "id": "zGWpcBkaKKsy",
        "colab_type": "code",
        "colab": {}
      },
      "cell_type": "code",
      "source": [
        "import cv2\n",
        "from torch.utils.data import Dataset, DataLoader\n",
        "class DataLoader(Dataset):\n",
        "  def __init__(self,a,root_dir):\n",
        "    self.a = a\n",
        "    self.root_dir = root_dir\n",
        "  def __len__(self):\n",
        "      return len(a)\n",
        "  def __getitem__(self, idx):\n",
        "      img_name = os.path.join(self.root_dir, a[idx])\n",
        "      target = cv2.imread(img_name,1)\n",
        "      input_img = cv2.imread(img_name,0)\n",
        "      #target = target/255\n",
        "      input_img = input_img/255\n",
        "      return input_img,target"
      ],
      "execution_count": 0,
      "outputs": []
    },
    {
      "metadata": {
        "id": "oN5y9ky0Lyb2",
        "colab_type": "code",
        "colab": {}
      },
      "cell_type": "code",
      "source": [
        "# input to output\n",
        "class Generator_1(nn.Module):\n",
        "  def __init__(self):\n",
        "    super(Generator_1,self).__init__()\n",
        "    self.conv1 = nn.Sequential(\n",
        "                                nn.Conv2d(1,64,kernel_size = 1,stride = 1),\n",
        "                                nn.BatchNorm2d(64),\n",
        "                                nn.LeakyReLU(0.5)\n",
        "                              )\n",
        "    self.conv2 = nn.Sequential(\n",
        "                                nn.Conv2d(64,64,kernel_size = 1,stride = 1),\n",
        "                                nn.BatchNorm2d(64),\n",
        "                                nn.LeakyReLU(0.5)\n",
        "                              )\n",
        "    self.conv3 = nn.Sequential(\n",
        "                                nn.Conv2d(64,64,kernel_size = 1,stride = 1),\n",
        "                                nn.BatchNorm2d(64),\n",
        "                                nn.LeakyReLU(0.5)\n",
        "                              )\n",
        "    self.conv4 = nn.Sequential(\n",
        "                                nn.Conv2d(64,128,kernel_size = 2,stride = 2),\n",
        "                                nn.BatchNorm2d(128),\n",
        "                                nn.LeakyReLU(0.5)\n",
        "                              )\n",
        "    self.conv5 = nn.Sequential(\n",
        "                                nn.Conv2d(128,128,kernel_size = 1,stride = 1),\n",
        "                                nn.BatchNorm2d(128),\n",
        "                                nn.LeakyReLU(0.5)\n",
        "                              )\n",
        "    self.conv6 = nn.Sequential(\n",
        "                                nn.Conv2d(128,128,kernel_size = 1,stride = 1),\n",
        "                                nn.BatchNorm2d(128),\n",
        "                                nn.LeakyReLU(0.5)\n",
        "                              )\n",
        "    self.conv7 = nn.Sequential(\n",
        "                                nn.Conv2d(128,128,kernel_size = 1,stride = 1),\n",
        "                                nn.BatchNorm2d(128),\n",
        "                                nn.LeakyReLU(0.5)\n",
        "                              )\n",
        "    self.conv8 = nn.Sequential(\n",
        "                                nn.Conv2d(128,256,kernel_size = 2,stride = 2),\n",
        "                                nn.BatchNorm2d(256),\n",
        "                                nn.LeakyReLU(0.5)\n",
        "                              )\n",
        "    self.conv9 = nn.Sequential(\n",
        "                                nn.Conv2d(256,256,kernel_size = 1,stride = 1),\n",
        "                                nn.BatchNorm2d(256),\n",
        "                                nn.LeakyReLU(0.5)\n",
        "                              )\n",
        "    self.conv10 = nn.Sequential(\n",
        "                                nn.Conv2d(256,256,kernel_size = 1,stride = 1),\n",
        "                                nn.BatchNorm2d(256),\n",
        "                                nn.LeakyReLU(0.5)\n",
        "                              )\n",
        "    self.conv11 = nn.Sequential(\n",
        "                                nn.Conv2d(256,256,kernel_size = 1,stride = 1),\n",
        "                                nn.BatchNorm2d(256),\n",
        "                                nn.LeakyReLU(0.5)\n",
        "                              )\n",
        "    self.conv12 = nn.Sequential(\n",
        "                                nn.Conv2d(256,512,kernel_size = 2,stride = 2),\n",
        "                                nn.BatchNorm2d(512),\n",
        "                                nn.LeakyReLU(0.5)\n",
        "                              )\n",
        "    self.conv13 = nn.Sequential(\n",
        "                                nn.Conv2d(512,512,kernel_size = 2,stride = 2),\n",
        "                                nn.BatchNorm2d(512),\n",
        "                                nn.LeakyReLU(0.5)\n",
        "                              )\n",
        "    self.conv14 = nn.Sequential(\n",
        "                                nn.Conv2d(512,512,kernel_size = 1,stride = 1),\n",
        "                                nn.BatchNorm2d(512),\n",
        "                                nn.LeakyReLU(0.5)\n",
        "                              )\n",
        "    self.conv15 = nn.Sequential(\n",
        "                                nn.Conv2d(512,512,kernel_size = 1,stride = 1),\n",
        "                                nn.BatchNorm2d(512),\n",
        "                                nn.LeakyReLU(0.5)\n",
        "                              )\n",
        "    \n",
        "    \n",
        "    #Deconvolution\n",
        "    self.deconv1 = nn.Sequential(\n",
        "                                nn.ConvTranspose2d(512,256,kernel_size = 2,stride = 2),\n",
        "                                nn.BatchNorm2d(256),\n",
        "                                nn.LeakyReLU(0.5)\n",
        "                              )\n",
        "    self.deconv2 = nn.Sequential(\n",
        "                                nn.ConvTranspose2d(256,256,kernel_size = 1,stride = 1),\n",
        "                                nn.BatchNorm2d(256),\n",
        "                                nn.LeakyReLU(0.5)\n",
        "                              )\n",
        "    self.deconv3 = nn.Sequential(\n",
        "                                nn.ConvTranspose2d(256,256,kernel_size = 1,stride = 1),\n",
        "                                nn.BatchNorm2d(256),\n",
        "                                nn.LeakyReLU(0.5)\n",
        "                              )\n",
        "    self.deconv4 = nn.Sequential(\n",
        "                                nn.ConvTranspose2d(256,128,kernel_size = 2,stride = 2),\n",
        "                                nn.BatchNorm2d(128),\n",
        "                                nn.LeakyReLU(0.5)\n",
        "                              )\n",
        "    self.deconv5 = nn.Sequential(\n",
        "                                nn.ConvTranspose2d(128,128,kernel_size = 1,stride = 1),\n",
        "                                nn.BatchNorm2d(128),\n",
        "                                nn.LeakyReLU(0.5)\n",
        "                              )\n",
        "    self.deconv6 = nn.Sequential(\n",
        "                                nn.ConvTranspose2d(128,128,kernel_size = 1,stride = 1),\n",
        "                                nn.BatchNorm2d(128),\n",
        "                                nn.LeakyReLU(0.5)\n",
        "                              )\n",
        "    self.deconv7 = nn.Sequential(\n",
        "                                nn.ConvTranspose2d(128,64,kernel_size = 2,stride = 2),\n",
        "                                nn.BatchNorm2d(64),\n",
        "                                nn.LeakyReLU(0.5)\n",
        "                              )\n",
        "    self.deconv8 = nn.Sequential(\n",
        "                                nn.ConvTranspose2d(64,64,kernel_size = 1,stride = 1),\n",
        "                                nn.BatchNorm2d(64),\n",
        "                                nn.LeakyReLU(0.5)\n",
        "                              )\n",
        "    self.deconv9 = nn.Sequential(\n",
        "                                nn.ConvTranspose2d(64,64,kernel_size = 1,stride = 1),\n",
        "                                nn.BatchNorm2d(64),\n",
        "                                nn.LeakyReLU(0.5)\n",
        "                              )\n",
        "    self.deconv10 = nn.Sequential(\n",
        "                                nn.ConvTranspose2d(64,32,kernel_size = 2,stride = 2),\n",
        "                                nn.BatchNorm2d(32),\n",
        "                                nn.LeakyReLU(0.5)\n",
        "                              )\n",
        "    self.deconv11 = nn.Sequential(\n",
        "                                nn.ConvTranspose2d(32,32,kernel_size = 1,stride = 1),\n",
        "                                nn.BatchNorm2d(32),\n",
        "                                nn.LeakyReLU(0.5)\n",
        "                              )\n",
        "    self.deconv12 = nn.Sequential(\n",
        "                                nn.ConvTranspose2d(32,32,kernel_size = 1,stride = 1),\n",
        "                                nn.BatchNorm2d(32),\n",
        "                                nn.LeakyReLU(0.5)\n",
        "                              )\n",
        "    self.deconv13 = nn.Sequential(\n",
        "                                nn.ConvTranspose2d(32,3,kernel_size = 1,stride = 1),\n",
        "                                nn.BatchNorm2d(3),\n",
        "                                nn.LeakyReLU(0.5)\n",
        "                              )\n",
        "    self.deconv14 = nn.Sequential(\n",
        "                                nn.ConvTranspose2d(3,3,kernel_size = 1,stride = 1),\n",
        "                                nn.BatchNorm2d(3),\n",
        "                                nn.LeakyReLU(0.5)\n",
        "                              )\n",
        "    self.deconv15 = nn.Sequential(\n",
        "                                nn.ConvTranspose2d(3,3,kernel_size = 1,stride = 1),\n",
        "                                nn.BatchNorm2d(3),\n",
        "                                nn.LeakyReLU(0.5)\n",
        "                              )\n",
        "    \n",
        "  def forward(self,x):\n",
        "    x = self.conv1(x)\n",
        "    x = self.conv2(x)\n",
        "    x = self.conv3(x)\n",
        "    x = self.conv4(x)\n",
        "    x = self.conv5(x)\n",
        "    x = self.conv6(x)\n",
        "    x = self.conv7(x)\n",
        "    x = self.conv8(x)\n",
        "    x = self.conv9(x)\n",
        "    x = self.conv10(x)\n",
        "    x = self.conv11(x)\n",
        "    x = self.conv12(x)\n",
        "    x = self.conv13(x)\n",
        "    x = self.conv14(x)\n",
        "    x = self.conv15(x)\n",
        "    \n",
        "    x = self.deconv1(x)\n",
        "    x = self.deconv2(x)\n",
        "    x = self.deconv3(x)\n",
        "    x = self.deconv4(x)\n",
        "    x = self.deconv5(x)\n",
        "    x = self.deconv6(x)\n",
        "    x = self.deconv7(x)\n",
        "    x = self.deconv8(x)\n",
        "    x = self.deconv9(x)\n",
        "    x = self.deconv10(x)\n",
        "    x = self.deconv11(x)\n",
        "    x = self.deconv12(x)\n",
        "    x = self.deconv13(x)\n",
        "    x = self.deconv14(x)\n",
        "    x = self.deconv15(x)\n",
        "    x = torch.tanh(x)\n",
        "    return x\n",
        "  \n",
        "\n",
        "#device = torch.device(\"cuda\" if torch.cuda.is_available() else \"cpu\")\n",
        "#model = Generator_1().to(device)\n",
        "#summary(model, (1, 32, 32))"
      ],
      "execution_count": 0,
      "outputs": []
    },
    {
      "metadata": {
        "id": "mtwXqwBQbb9_",
        "colab_type": "code",
        "colab": {}
      },
      "cell_type": "code",
      "source": [
        "class Discriminator_1(nn.Module):\n",
        "  def __init__(self):\n",
        "    super(Discriminator_1,self).__init__()\n",
        "    self.conv1 = nn.Sequential(\n",
        "                                nn.Conv2d(3,32,kernel_size = 4,stride = 2),\n",
        "                                nn.BatchNorm2d(32),\n",
        "                                nn.LeakyReLU(0.5)\n",
        "                              )\n",
        "    self.conv2 = nn.Sequential(\n",
        "                                nn.Conv2d(32,64,kernel_size = 4,stride = 2),\n",
        "                                nn.BatchNorm2d(64),\n",
        "                                nn.LeakyReLU(0.5)\n",
        "                              )\n",
        "    self.conv3 = nn.Sequential(\n",
        "                                nn.Conv2d(64,128,kernel_size = 3,stride = 1),\n",
        "                                nn.BatchNorm2d(128),\n",
        "                                nn.LeakyReLU(0.5)\n",
        "                              )\n",
        "    self.conv4 = nn.Sequential(\n",
        "                                nn.Conv2d(128,256,kernel_size = 3,stride = 1),\n",
        "                                nn.BatchNorm2d(256),\n",
        "                                nn.LeakyReLU(0.5)\n",
        "                              )\n",
        "    self.fc1 = nn.Sequential( \n",
        "                                nn.Linear(1024, 512),\n",
        "                                nn.LeakyReLU(0.2),\n",
        "                                nn.Dropout(0.3)\n",
        "                            )\n",
        "    self.fc2 = nn.Sequential( \n",
        "                                nn.Linear(512, 128),\n",
        "                                nn.LeakyReLU(0.2),\n",
        "                                nn.Dropout(0.3)\n",
        "                            )\n",
        "    self.fc3 = nn.Sequential( \n",
        "                                nn.Linear(128, 1),                             \n",
        "                            )\n",
        "    \n",
        "  def forward(self,x):\n",
        "    x = self.conv1(x)\n",
        "    x = self.conv2(x)\n",
        "    x = self.conv3(x)\n",
        "    x = self.conv4(x)\n",
        "    x = x.view(-1,1024)\n",
        "    x = self.fc1(x)\n",
        "    x = self.fc2(x)\n",
        "    x = self.fc3(x)\n",
        "    x = torch.sigmoid(x)\n",
        "    return x\n",
        "#model_2 = Discriminator_1().to(device)\n",
        "#summary(model_2, (3, 32, 32))"
      ],
      "execution_count": 0,
      "outputs": []
    },
    {
      "metadata": {
        "id": "8j7Q38fkj17k",
        "colab_type": "code",
        "colab": {}
      },
      "cell_type": "code",
      "source": [
        "def ones_target(size):\n",
        "    '''\n",
        "    Tensor containing ones, with shape = size\n",
        "    '''\n",
        "    data = Variable(torch.ones(size, 1)) * 0.9\n",
        "    data = data.type(torch.cuda.FloatTensor)\n",
        "    return data\n",
        "\n",
        "def zeros_target(size):\n",
        "    '''\n",
        "    Tensor containing zeros, with shape = size\n",
        "    '''\n",
        "    data = Variable(torch.ones(size, 1)) * 0.1\n",
        "    data = data.type(torch.cuda.FloatTensor)\n",
        "    return data"
      ],
      "execution_count": 0,
      "outputs": []
    },
    {
      "metadata": {
        "id": "sT24wa9VSu0T",
        "colab_type": "code",
        "colab": {}
      },
      "cell_type": "code",
      "source": [
        "def train_discriminator(real,fake,optimizer):\n",
        "  optimizer.zero_grad()\n",
        "  N = real.size(0)\n",
        "  #real_data\n",
        "  prediction_real = discriminator(real)\n",
        "  error_real = loss(prediction_real, ones_target(N))\n",
        "  error_real.backward()\n",
        "  \n",
        "  #fake_data\n",
        "  prediction_fake = discriminator(fake)\n",
        "  error_fake = loss(prediction_fake,zeros_target(N))\n",
        "  error_fake.backward()\n",
        "  \n",
        "  optimizer.step()\n",
        "  \n",
        "  return error_real + error_fake, prediction_real, prediction_fake"
      ],
      "execution_count": 0,
      "outputs": []
    },
    {
      "metadata": {
        "id": "eXpm_5emSwSf",
        "colab_type": "code",
        "colab": {}
      },
      "cell_type": "code",
      "source": [
        "def train_generator(optimizer, fake_data):\n",
        "    N = fake_data.size(0)\n",
        "    # Reset gradients\n",
        "    optimizer.zero_grad()\n",
        "    # Sample noise and generate fake data\n",
        "    prediction = discriminator(fake_data)\n",
        "    # Calculate error and backpropagate\n",
        "    error = loss(prediction, ones_target(N))\n",
        "    #data = Variable(torch.ones(1, 1))\n",
        "    #data = data.type(torch.cuda.FloatTensor)\n",
        "    # error = loss(prediction, ones_target(N))\n",
        "    error.backward()\n",
        "    # Update weights with gradients\n",
        "    optimizer.step()\n",
        "    # Return error\n",
        "    return error"
      ],
      "execution_count": 0,
      "outputs": []
    },
    {
      "metadata": {
        "id": "rwtSspJWSTnM",
        "colab_type": "code",
        "colab": {}
      },
      "cell_type": "code",
      "source": [
        "a = os.listdir('/content/train')\n",
        "root_dir = '/content/train'\n",
        "dataset = DataLoader(a,root_dir)"
      ],
      "execution_count": 0,
      "outputs": []
    },
    {
      "metadata": {
        "id": "PLDZXroKSaaI",
        "colab_type": "code",
        "colab": {}
      },
      "cell_type": "code",
      "source": [
        "dataloader = torch.utils.data.DataLoader(dataset, batch_size = 32, shuffle = True)"
      ],
      "execution_count": 0,
      "outputs": []
    },
    {
      "metadata": {
        "id": "LvqimoLSSiXQ",
        "colab_type": "code",
        "colab": {}
      },
      "cell_type": "code",
      "source": [
        "device = torch.device(\"cuda\" if torch.cuda.is_available() else \"cpu\")\n",
        "generator = Generator_1().to(device)\n",
        "discriminator = Discriminator_1().to(device)"
      ],
      "execution_count": 0,
      "outputs": []
    },
    {
      "metadata": {
        "id": "QNJv_BNWh3qh",
        "colab_type": "code",
        "colab": {}
      },
      "cell_type": "code",
      "source": [
        "import torch.optim as optim\n",
        "d_optimizer = optim.Adam(discriminator.parameters(), lr=0.0002)\n",
        "g_optimizer = optim.Adam(generator.parameters(), lr=0.0002)\n",
        "loss = nn.BCELoss()\n",
        "loss = nn.BCELoss()\n",
        "#loss1 = nn.MSELoss()"
      ],
      "execution_count": 0,
      "outputs": []
    },
    {
      "metadata": {
        "id": "DUZvCcx7S248",
        "colab_type": "code",
        "colab": {}
      },
      "cell_type": "code",
      "source": [
        "image,output = dataset[3]"
      ],
      "execution_count": 0,
      "outputs": []
    },
    {
      "metadata": {
        "id": "n9Tm9IFKS3xa",
        "colab_type": "code",
        "outputId": "a4d4a4d5-5546-4c1a-f762-0f3c0cbbc7f6",
        "colab": {
          "base_uri": "https://localhost:8080/",
          "height": 364
        }
      },
      "cell_type": "code",
      "source": [
        "import matplotlib.pyplot as plt\n",
        "plt.imshow(output)"
      ],
      "execution_count": 114,
      "outputs": [
        {
          "output_type": "execute_result",
          "data": {
            "text/plain": [
              "<matplotlib.image.AxesImage at 0x7fc02b5548d0>"
            ]
          },
          "metadata": {
            "tags": []
          },
          "execution_count": 114
        },
        {
          "output_type": "display_data",
          "data": {
            "image/png": "[encoded data removed]",
            "text/plain": [
              "<Figure size 576x396 with 1 Axes>"
            ]
          },
          "metadata": {
            "tags": []
          }
        }
      ]
    },
    {
      "metadata": {
        "id": "zCC6vlAQRtUq",
        "colab_type": "code",
        "colab": {
          "base_uri": "https://localhost:8080/",
          "height": 34
        },
        "outputId": "de943382-6a35-4afe-ffb3-3b538185fdbc"
      },
      "cell_type": "code",
      "source": [
        "mkdir /content/generated/"
      ],
      "execution_count": 115,
      "outputs": [
        {
          "output_type": "stream",
          "text": [
            "mkdir: cannot create directory ‘/content/generated/’: File exists\n"
          ],
          "name": "stdout"
        }
      ]
    },
    {
      "metadata": {
        "id": "hjcA__HunHUp",
        "colab_type": "code",
        "colab": {}
      },
      "cell_type": "code",
      "source": [
        "for epoch in range(10):\n",
        "  for n_batch,(input_img,output_img) in enumerate(dataloader):\n",
        "        N = input_img.size(0)\n",
        "        # 1. Train Discriminator\n",
        "        input_img = input_img.view(N,1,32,32)\n",
        "        # Generate fake data and detach \n",
        "        # (so gradients are not calculated for generator)\n",
        "        input_img = input_img.to(device)\n",
        "        input_img = input_img.type(torch.cuda.FloatTensor)\n",
        "        output_img = output_img.view(N,3,32,32)\n",
        "        output_img = output_img.to(device)\n",
        "        output_img = output_img.type(torch.cuda.FloatTensor)\n",
        "        generator.train()\n",
        "        fake_data = generator(input_img).detach()\n",
        "        \n",
        "        # Train D\n",
        "        if n_batch%2 == 0:\n",
        "          d_error, d_pred_real, d_pred_fake = train_discriminator(output_img, fake_data,d_optimizer)\n",
        "        # 2. Train Generator\n",
        "        # Generate fake data\n",
        "        fake_data = generator(input_img)\n",
        "        # Train G\n",
        "        g_error = train_generator(g_optimizer, fake_data)\n",
        "        if(n_batch%300==0):\n",
        "          print('epochs : {}'.format(epoch) , 'd_error : {}'.format(d_error) , 'g_error : {}'.format(g_error))\n",
        "        # Display Progress every few batches\n",
        "  torch.optim.lr_scheduler.StepLR(g_optimizer, 3, gamma=0.1, last_epoch=-1)\n",
        "  generator.eval()\n",
        "  image,_ = dataset[3]\n",
        "  image = image.reshape((32,32,1))\n",
        "  image = torch.from_numpy(image)\n",
        "  image = image.type(torch.cuda.FloatTensor)\n",
        "  image = image.view(1,1,32,32)\n",
        "  target = generator(image).detach()\n",
        "  b = target.to(torch.device(\"cpu\"))\n",
        "  b = b.numpy()\n",
        "  b = np.reshape(b,(32,32,3))\n",
        "  b = b*255\n",
        "  cv2.imwrite('/content/generated/{}.png'.format(epoch),b)"
      ],
      "execution_count": 0,
      "outputs": []
    },
    {
      "metadata": {
        "id": "eTdzyF9hWOMx",
        "colab_type": "code",
        "outputId": "75a99980-8009-4d25-8ef1-bd5c9c4a2af7",
        "colab": {
          "base_uri": "https://localhost:8080/",
          "height": 34
        }
      },
      "cell_type": "code",
      "source": [
        "sk = cv2.imread('/content/train/10000.png',0)\n",
        "inp = np.empty((1,32,32))\n",
        "inp[0,:,:] = np.array(sk)\n",
        "inp = torch.from_numpy(inp)\n",
        "inp = inp[np.newaxis, :] \n",
        "#inp = inp.permute(0, 1, 2)\n",
        "inp.to(device)\n",
        "inp.shape\n"
      ],
      "execution_count": 0,
      "outputs": [
        {
          "output_type": "execute_result",
          "data": {
            "text/plain": [
              "torch.Size([1, 1, 32, 32])"
            ]
          },
          "metadata": {
            "tags": []
          },
          "execution_count": 74
        }
      ]
    },
    {
      "metadata": {
        "id": "YJfpORo0Xp0F",
        "colab_type": "code",
        "colab": {}
      },
      "cell_type": "code",
      "source": [
        "out = generator(inp)"
      ],
      "execution_count": 0,
      "outputs": []
    }
  ]
}