{
  "nbformat": 4,
  "nbformat_minor": 0,
  "metadata": {
    "colab": {
      "name": "CGAN.ipynb",
      "version": "0.3.2",
      "provenance": []
    },
    "kernelspec": {
      "name": "python3",
      "display_name": "Python 3"
    },
    "accelerator": "GPU"
  },
  "cells": [
    {
      "metadata": {
        "id": "xzD3NlSicSKB",
        "colab_type": "code",
        "colab": {}
      },
      "cell_type": "code",
      "source": [
        "import torch.nn as nn\n",
        "import torch.nn.functional as F\n",
        "import torch\n",
        "from torchsummary import summary\n",
        "from torch.autograd import Variable\n",
        "from logging import Logger\n",
        "from skimage.color import rgb2lab, lab2rgb, rgb2gray, xyz2lab\n",
        "from skimage.io import imsave\n",
        "import torch.optim as optim"
      ],
      "execution_count": 0,
      "outputs": []
    },
    {
      "metadata": {
        "id": "W74d1u7wdvFD",
        "colab_type": "code",
        "colab": {}
      },
      "cell_type": "code",
      "source": [
        "class double_conv(nn.Module):\n",
        "    '''(conv => BN => ReLU) * 2'''\n",
        "    def __init__(self, in_ch, out_ch):\n",
        "        super(double_conv, self).__init__()\n",
        "        self.conv = nn.Sequential(\n",
        "            nn.Conv2d(in_ch, out_ch, 3, padding=1),\n",
        "            nn.BatchNorm2d(out_ch),\n",
        "            nn.ReLU(inplace=True),\n",
        "            nn.Conv2d(out_ch, out_ch, 3, padding=1),\n",
        "            nn.BatchNorm2d(out_ch),\n",
        "            nn.ReLU(inplace=True)\n",
        "        )\n",
        "\n",
        "    def forward(self, x):\n",
        "        x = self.conv(x)\n",
        "        return x\n",
        "\n",
        "\n",
        "class inconv(nn.Module):\n",
        "    def __init__(self, in_ch, out_ch):\n",
        "        super(inconv, self).__init__()\n",
        "        self.conv = double_conv(in_ch, out_ch)\n",
        "\n",
        "    def forward(self, x):\n",
        "        x = self.conv(x)\n",
        "        return x\n",
        "\n",
        "\n",
        "class down(nn.Module):\n",
        "    def __init__(self, in_ch, out_ch):\n",
        "        super(down, self).__init__()\n",
        "        self.mpconv = nn.Sequential(\n",
        "            nn.MaxPool2d(2),\n",
        "            double_conv(in_ch, out_ch)\n",
        "        )\n",
        "\n",
        "    def forward(self, x):\n",
        "        x = self.mpconv(x)\n",
        "        return x\n",
        "\n",
        "\n",
        "class up(nn.Module):\n",
        "    def __init__(self, in_ch, out_ch, bilinear=True):\n",
        "        super(up, self).__init__()\n",
        "\n",
        "        #  would be a nice idea if the upsampling could be learned too,\n",
        "        #  but my machine do not have enough memory to handle all those weights\n",
        "        if bilinear:\n",
        "            self.up = nn.Upsample(scale_factor=2, mode='bilinear', align_corners=True)\n",
        "        else:\n",
        "            self.up = nn.ConvTranspose2d(in_ch//2, in_ch//2, 2, stride=2)\n",
        "\n",
        "        self.conv = double_conv(in_ch, out_ch)\n",
        "\n",
        "    def forward(self, x1, x2):\n",
        "        x1 = self.up(x1)\n",
        "        \n",
        "        # input is CHW\n",
        "        diffY = x2.size()[2] - x1.size()[2]\n",
        "        diffX = x2.size()[3] - x1.size()[3]\n",
        "\n",
        "        x1 = F.pad(x1, (diffX // 2, diffX - diffX//2,\n",
        "                        diffY // 2, diffY - diffY//2))\n",
        "        \n",
        "        # for padding issues, see \n",
        "        # https://github.com/HaiyongJiang/U-Net-Pytorch-Unstructured-Buggy/commit/0e854509c2cea854e247a9c615f175f76fbb2e3a\n",
        "        # https://github.com/xiaopeng-liao/Pytorch-UNet/commit/8ebac70e633bac59fc22bb5195e513d5832fb3bd\n",
        "\n",
        "        x = torch.cat([x2, x1], dim=1)\n",
        "        x = self.conv(x)\n",
        "        return x\n",
        "\n",
        "\n",
        "class outconv(nn.Module):\n",
        "    def __init__(self, in_ch, out_ch):\n",
        "        super(outconv, self).__init__()\n",
        "        self.conv = nn.Conv2d(in_ch, out_ch, 1)\n",
        "\n",
        "    def forward(self, x):\n",
        "        x = self.conv(x)\n",
        "        return x"
      ],
      "execution_count": 0,
      "outputs": []
    },
    {
      "metadata": {
        "id": "PvyGk7CgdmV_",
        "colab_type": "code",
        "colab": {}
      },
      "cell_type": "code",
      "source": [
        "class UNet(nn.Module):\n",
        "    def __init__(self, n_channels, n_classes):\n",
        "        super(UNet, self).__init__()\n",
        "        self.inc = inconv(n_channels, 64)\n",
        "        self.down1 = down(64, 128)\n",
        "        self.down2 = down(128, 256)\n",
        "        self.down3 = down(256, 512)\n",
        "        self.down4 = down(512, 512)\n",
        "        self.up1 = up(1024, 256)\n",
        "        self.up2 = up(512, 128)\n",
        "        self.up3 = up(256, 64)\n",
        "        self.up4 = up(128, 64)\n",
        "        self.outc = outconv(64, n_classes)\n",
        "\n",
        "    def forward(self, x):\n",
        "        x1 = self.inc(x)\n",
        "        x2 = self.down1(x1)\n",
        "        x3 = self.down2(x2)\n",
        "        x4 = self.down3(x3)\n",
        "        x5 = self.down4(x4)\n",
        "        x = self.up1(x5, x4)\n",
        "        x = self.up2(x, x3)\n",
        "        x = self.up3(x, x2)\n",
        "        x = self.up4(x, x1)\n",
        "        x = self.outc(x)\n",
        "        return F.tanh(x)"
      ],
      "execution_count": 0,
      "outputs": []
    },
    {
      "metadata": {
        "id": "WXBJcvh9dyN9",
        "colab_type": "code",
        "colab": {}
      },
      "cell_type": "code",
      "source": [
        "device = torch.device(\"cuda\" if torch.cuda.is_available() else \"cpu\")\n",
        "model = UNet(1,2).to(device)"
      ],
      "execution_count": 0,
      "outputs": []
    },
    {
      "metadata": {
        "id": "yIZIWOhVd7o1",
        "colab_type": "code",
        "colab": {
          "base_uri": "https://localhost:8080/",
          "height": 615
        },
        "outputId": "0beeb8f4-5bdd-435b-dda2-1a77932b6044"
      },
      "cell_type": "code",
      "source": [
        "\n",
        "class Discriminator_1(nn.Module):\n",
        "  def __init__(self):\n",
        "    super(Discriminator_1,self).__init__()\n",
        "    self.conv1 = nn.Sequential(\n",
        "                                nn.Conv2d(2,32,kernel_size = 4,stride = 2),\n",
        "                                nn.BatchNorm2d(32),\n",
        "                                nn.MaxPool2d(2),\n",
        "                                nn.LeakyReLU(0.5)\n",
        "                              )\n",
        "    self.conv2 = nn.Sequential(\n",
        "                                nn.Conv2d(32,64,kernel_size = 4,stride = 2),\n",
        "                                nn.BatchNorm2d(64),\n",
        "                                nn.MaxPool2d(4),\n",
        "                                \n",
        "                                nn.LeakyReLU(0.5)\n",
        "                              )\n",
        "    self.conv3 = nn.Sequential(\n",
        "                                nn.Conv2d(64,128,kernel_size = 3,stride = 1),\n",
        "                                nn.BatchNorm2d(128),\n",
        "                                nn.MaxPool2d(2),\n",
        "                                nn.LeakyReLU(0.5)\n",
        "                              )\n",
        "\n",
        "    self.fc1 = nn.Sequential( \n",
        "                                nn.Linear(512, 256),\n",
        "                                nn.LeakyReLU(0.2),\n",
        "                                nn.Dropout(0.3)\n",
        "                            )\n",
        "    self.fc2 = nn.Sequential( \n",
        "                                nn.Linear(256, 128),\n",
        "                                nn.LeakyReLU(0.2),\n",
        "                                nn.Dropout(0.3)\n",
        "                            )\n",
        "    self.fc3 = nn.Sequential( \n",
        "                                nn.Linear(128, 1),            \n",
        "        \n",
        "                            )\n",
        "    \n",
        "  def forward(self,x):\n",
        "    x = self.conv1(x)\n",
        "    x = self.conv2(x)\n",
        "    x = self.conv3(x)\n",
        "\n",
        "    x = x.view(-1,512)\n",
        "    x = self.fc1(x)\n",
        "    x = self.fc2(x)\n",
        "    x = self.fc3(x)\n",
        "    x = F.sigmoid(x)\n",
        "    return x\n",
        "discriminator = Discriminator_1().to(device)\n",
        "summary(discriminator, (2, 256, 256)\n",
        ")"
      ],
      "execution_count": 146,
      "outputs": [
        {
          "output_type": "stream",
          "text": [
            "----------------------------------------------------------------\n",
            "        Layer (type)               Output Shape         Param #\n",
            "================================================================\n",
            "            Conv2d-1         [-1, 32, 127, 127]           1,056\n",
            "       BatchNorm2d-2         [-1, 32, 127, 127]              64\n",
            "         MaxPool2d-3           [-1, 32, 63, 63]               0\n",
            "         LeakyReLU-4           [-1, 32, 63, 63]               0\n",
            "            Conv2d-5           [-1, 64, 30, 30]          32,832\n",
            "       BatchNorm2d-6           [-1, 64, 30, 30]             128\n",
            "         MaxPool2d-7             [-1, 64, 7, 7]               0\n",
            "         LeakyReLU-8             [-1, 64, 7, 7]               0\n",
            "            Conv2d-9            [-1, 128, 5, 5]          73,856\n",
            "      BatchNorm2d-10            [-1, 128, 5, 5]             256\n",
            "        MaxPool2d-11            [-1, 128, 2, 2]               0\n",
            "        LeakyReLU-12            [-1, 128, 2, 2]               0\n",
            "           Linear-13                  [-1, 256]         131,328\n",
            "        LeakyReLU-14                  [-1, 256]               0\n",
            "          Dropout-15                  [-1, 256]               0\n",
            "           Linear-16                  [-1, 128]          32,896\n",
            "        LeakyReLU-17                  [-1, 128]               0\n",
            "          Dropout-18                  [-1, 128]               0\n",
            "           Linear-19                    [-1, 1]             129\n",
            "================================================================\n",
            "Total params: 272,545\n",
            "Trainable params: 272,545\n",
            "Non-trainable params: 0\n",
            "----------------------------------------------------------------\n",
            "Input size (MB): 0.50\n",
            "Forward/backward pass size (MB): 10.81\n",
            "Params size (MB): 1.04\n",
            "Estimated Total Size (MB): 12.35\n",
            "----------------------------------------------------------------\n"
          ],
          "name": "stdout"
        },
        {
          "output_type": "stream",
          "text": [
            "/usr/local/lib/python3.6/dist-packages/torch/nn/functional.py:1332: UserWarning: nn.functional.sigmoid is deprecated. Use torch.sigmoid instead.\n",
            "  warnings.warn(\"nn.functional.sigmoid is deprecated. Use torch.sigmoid instead.\")\n"
          ],
          "name": "stderr"
        }
      ]
    },
    {
      "metadata": {
        "id": "0oQ9xhIWemzp",
        "colab_type": "code",
        "colab": {}
      },
      "cell_type": "code",
      "source": [
        "# optimizers\n",
        "\n",
        "optimizer_G = optim.Adam(model.parameters(),\n",
        "                             lr=0.01, betas=(0.5, 0.999),\n",
        "                             eps=1e-8)\n",
        "optimizer_D = optim.Adam(discriminator.parameters(),\n",
        "                             lr=0.01, betas=(0.5, 0.999),\n",
        "                             eps=1e-8)"
      ],
      "execution_count": 0,
      "outputs": []
    },
    {
      "metadata": {
        "id": "IiDifuZLgRxc",
        "colab_type": "code",
        "colab": {}
      },
      "cell_type": "code",
      "source": [
        "#losses\n",
        "mse = torch.nn.MSELoss()\n",
        "L1 = torch.nn.L1Loss()\n",
        "bce = torch.nn.BCELoss()"
      ],
      "execution_count": 0,
      "outputs": []
    },
    {
      "metadata": {
        "id": "fSBaAiDrg3nd",
        "colab_type": "code",
        "colab": {
          "base_uri": "https://localhost:8080/",
          "height": 52
        },
        "outputId": "6fa6faa0-b782-49aa-f72c-f5aa39567fa4"
      },
      "cell_type": "code",
      "source": [
        "!pip install wget\n",
        "import wget\n",
        "wget.download('https://storage.googleapis.com/kaggle-datasets/5857/252786/fruits.zip?GoogleAccessId=web-data@kaggle-161607.iam.gserviceaccount.com&Expires=1548833389&Signature=V%2FAItCBgONDFg%2FWILY0WqFzc6WzJK6d7Fo7cUzMczZtS%2BqeRZoCszbEQl3EoyB5jlKjeE%2Fl36NKLfT1n04hPpvgymhCeKx1UhxyOa1g8frhkflM6qf1sfk0TelU%2Fk5miVNEOPI5mr2mLAip2mvhS70lQYDdV5yUlKldFDo5m9boOokma3W52KQkvMmYCX2HnzrSgeVswfK%2B0Agw2TGFb4xVUzjGvTIgZpCmxN3bhcZpqeJGij%2Fet7KiCrrRibhNiYeFh72U%2BrUc3nELEqKo43nTWBKB0%2B9lR682Z1M4WYFiqPH4s%2FR6FfxAqPSkwUM6crtMWKO5jjy2XmVDsyv767A%3D%3D')"
      ],
      "execution_count": 8,
      "outputs": [
        {
          "output_type": "stream",
          "text": [
            "Requirement already satisfied: wget in /usr/local/lib/python3.6/dist-packages (3.2)\n"
          ],
          "name": "stdout"
        },
        {
          "output_type": "execute_result",
          "data": {
            "text/plain": [
              "'fruits (1).zip'"
            ]
          },
          "metadata": {
            "tags": []
          },
          "execution_count": 8
        }
      ]
    },
    {
      "metadata": {
        "id": "8e6Fk7YlhDsS",
        "colab_type": "code",
        "colab": {}
      },
      "cell_type": "code",
      "source": [
        "import os\n",
        "import zipfile\n",
        "zip_ref = zipfile.ZipFile('/content/fruits.zip', 'r')\n",
        "zip_ref.extractall(os.getcwd())\n",
        "zip_ref.close()"
      ],
      "execution_count": 0,
      "outputs": []
    },
    {
      "metadata": {
        "id": "or6e2NdRhWan",
        "colab_type": "code",
        "colab": {}
      },
      "cell_type": "code",
      "source": [
        "def ones_target(size):\n",
        "    '''\n",
        "    Tensor containing ones, with shape = size\n",
        "    '''\n",
        "    data = Variable(torch.ones(size, 1))\n",
        "    data = data.type(torch.cuda.FloatTensor)\n",
        "    return data\n",
        "\n",
        "def zeros_target(size):\n",
        "    '''\n",
        "    Tensor containing zeros, with shape = size\n",
        "    '''\n",
        "    data = Variable(torch.zeros(size, 1))\n",
        "    data = data.type(torch.cuda.FloatTensor)\n",
        "    return data"
      ],
      "execution_count": 0,
      "outputs": []
    },
    {
      "metadata": {
        "id": "OZ_EsoC0hYXV",
        "colab_type": "code",
        "colab": {}
      },
      "cell_type": "code",
      "source": [
        "import cv2\n",
        "from torch.utils.data import Dataset, DataLoader\n",
        "class DataLoader(Dataset):\n",
        "  def __init__(self,a,root_dir):\n",
        "    self.a = a\n",
        "    self.root_dir = root_dir\n",
        "  def __len__(self):\n",
        "      return len(self.a)\n",
        "  def __getitem__(self, idx):\n",
        "      img_name = os.path.join(self.root_dir, self.a[idx])\n",
        "      target = cv2.imread(img_name)\n",
        "      target = cv2.resize(target,(256,256))\n",
        "      input_img = rgb2lab(1.0/255*target)[:,:,0]\n",
        "      target = rgb2lab(1.0/255*target)[:,:,1:]\n",
        "      target = target/128\n",
        "      return input_img,target"
      ],
      "execution_count": 0,
      "outputs": []
    },
    {
      "metadata": {
        "id": "EzlZOEMlhaXE",
        "colab_type": "code",
        "colab": {}
      },
      "cell_type": "code",
      "source": [
        "import os\n",
        "root_dir = '/content/fruits-360/Training/Apple Braeburn'\n",
        "a = os.listdir(root_dir)\n",
        "dataset = DataLoader(a,root_dir)\n",
        "dataloader = torch.utils.data.DataLoader(dataset, batch_size = 1, shuffle = True)"
      ],
      "execution_count": 0,
      "outputs": []
    },
    {
      "metadata": {
        "id": "nwImnur6nLfB",
        "colab_type": "code",
        "colab": {
          "base_uri": "https://localhost:8080/",
          "height": 55
        },
        "outputId": "6010138c-3c74-4e54-dff5-212636383dd5"
      },
      "cell_type": "code",
      "source": [
        "import os\n",
        "print(os.listdir('/content/fruits-360/Training/'))"
      ],
      "execution_count": 13,
      "outputs": [
        {
          "output_type": "stream",
          "text": [
            "['Plum 2', 'Banana Lady Finger', 'Plum 3', 'Papaya', 'Apple Granny Smith', 'Tomato 1', 'Cherry Wax Yellow', 'Tomato 2', 'Maracuja', 'Pineapple', 'Tangelo', 'Avocado ripe', 'Pear Kaiser', 'Kaki', 'Apple Golden 3', 'Physalis', 'Carambula', 'Pear Abate', 'Redcurrant', 'Pomelo Sweetie', 'Cherry 2', 'Nectarine', 'Pear Monster', 'Grape White 2', 'Apple Red 1', 'Apricot', 'Grapefruit Pink', 'Peach Flat', 'Apple Golden 1', 'Mango', 'Grapefruit White', 'Passion Fruit', 'Cherry Wax Red', 'Peach', 'Pear', 'Mangostan', 'Pear Williams', 'Melon Piel de Sapo', 'Tomato Maroon', 'Apple Red Yellow 1', 'Guava', 'Grape White 3', 'Rambutan', 'Cactus fruit', 'Raspberry', 'Kiwi', 'Apple Red 3', 'Clementine', 'Apple Braeburn', 'Grape White 4', 'Dates', 'Lychee', 'Tomato 3', 'Apple Red 2', 'Tomato Cherry Red', 'Walnut', 'Peach 2', 'Physalis with Husk', 'Cocos', 'Pineapple Mini', 'Apple Red Yellow 2', 'Hazelnut', 'Huckleberry', 'Mulberry', 'Lemon', 'Lemon Meyer', 'Cantaloupe 2', 'Pomegranate', 'Pepino', 'Avocado', 'Tomato 4', 'Pitahaya Red', 'Apple Red Delicious', 'Kumquats', 'Grape Blue', 'Cherry 1', 'Banana Red', 'Limes', 'Salak', 'Cherry Wax Black', 'Tamarillo', 'Chestnut', 'Granadilla', 'Banana', 'Apple Golden 2', 'Cantaloupe 1', 'Mandarine', 'Quince', 'Cherry Rainier', 'Strawberry Wedge', 'Grape White', 'Strawberry', 'Grape Pink', 'Orange', 'Plum']\n"
          ],
          "name": "stdout"
        }
      ]
    },
    {
      "metadata": {
        "id": "giUnT1tOmyqc",
        "colab_type": "code",
        "colab": {}
      },
      "cell_type": "code",
      "source": [
        "!mkdir generated"
      ],
      "execution_count": 0,
      "outputs": []
    },
    {
      "metadata": {
        "id": "xOPSMhNthhXE",
        "colab_type": "code",
        "colab": {
          "base_uri": "https://localhost:8080/",
          "height": 1126
        },
        "outputId": "0de78d2f-209b-46e8-bb98-11979dbdb57e"
      },
      "cell_type": "code",
      "source": [
        "torch.backends.cudnn.benchmark=True\n",
        "import numpy as np\n",
        "import cv2\n",
        "from tqdm.autonotebook import tqdm\n",
        "# optimizers\n",
        "\n",
        "optimizer_G = optim.RMSprop(model.parameters(),\n",
        "                             lr=0.1)\n",
        "optimizer_G1 = optim.Adam(model.parameters(),\n",
        "                             lr=0.1)\n",
        "optimizer_D = optim.Adam(discriminator.parameters(),\n",
        "                             lr=0.00003,betas=(0.5, 0.999),\n",
        "                             eps=1e-8)\n",
        "for epoch in range(50):\n",
        "    for n_batch,(input_img,output_img) in enumerate(dataloader):\n",
        "        N = input_img.size(0)\n",
        "        #loss for generator \n",
        "        input_img = input_img.view(N,1,256,256)\n",
        "        input_img = input_img.type(torch.cuda.FloatTensor)\n",
        "        output_img = output_img.view(N,2,256,256)\n",
        "        output_img = output_img.type(torch.cuda.FloatTensor)\n",
        "        \n",
        "        if(n_batch%100 == 0):\n",
        "          # train Discriminator B --> C\n",
        "            discriminator.train()\n",
        "            \n",
        "            optimizer_D.zero_grad()\n",
        "            real_image = discriminator(output_img)\n",
        "            \n",
        "            loss_real = bce(real_image , zeros_target(N))\n",
        "            fake_image = model(input_img)\n",
        "            fake_label = discriminator(fake_image)\n",
        "            \n",
        "            loss_fake = bce(fake_label , ones_target(N))\n",
        "            loss_B = (loss_real + loss_fake) / 2\n",
        "            loss_b = loss_B\n",
        "            loss_b.backward()\n",
        "            optimizer_D.step()\n",
        "\n",
        "        optimizer_G1.zero_grad()\n",
        "        fake_image = model(input_img)\n",
        "        output = discriminator(fake_image)\n",
        "        loss_d = bce(output , ones_target(N))\n",
        "        loss_L1 = L1(fake_image,output_img)\n",
        "        loss_mse = mse(fake_image,output_img)\n",
        "        loss_g = 50*loss_d + 10*loss_L1 + 10*loss_mse\n",
        "        \n",
        "        loss_g.backward(retain_graph = True)\n",
        "        optimizer_G1.step()\n",
        "        \n",
        "        if(n_batch%100==0):\n",
        "          print('epochs : {}'.format(epoch) ,  'g_error : {}'.format(loss_g) , 'discriminator_error :{}'.format(loss_B))\n",
        "       \n",
        "    torch.optim.lr_scheduler.StepLR(optimizer_D, 1, gamma=1.1, last_epoch=-1)\n",
        "    torch.optim.lr_scheduler.StepLR(optimizer_G, 2, gamma=0.9, last_epoch=-1)\n",
        "    if(epoch%1==0):\n",
        "        model.eval()\n",
        "        image,_ = dataset[4]\n",
        "        image = torch.from_numpy(image)\n",
        "        image = image.type(torch.cuda.FloatTensor)\n",
        "        image = image.view(1,1,256,256)\n",
        "        target = model(image).detach()\n",
        "        b = target.to(torch.device(\"cpu\"))\n",
        "        b = b.numpy()\n",
        "        b = np.reshape(b,(256,256,2))\n",
        "        cur = np.zeros((256, 256, 3))\n",
        "        image = image.to(torch.device(\"cpu\"))\n",
        "        image = image.numpy()\n",
        "        cur[:,:,0] = image\n",
        "        cur[:,:,1:] = (b*128)\n",
        "        d = lab2rgb(cur)\n",
        "        d =d*255\n",
        "        cv2.imwrite('./generated/{}.png'.format(epoch),d)"
      ],
      "execution_count": 0,
      "outputs": [
        {
          "output_type": "stream",
          "text": [
            "/usr/local/lib/python3.6/dist-packages/torch/nn/functional.py:1332: UserWarning: nn.functional.sigmoid is deprecated. Use torch.sigmoid instead.\n",
            "  warnings.warn(\"nn.functional.sigmoid is deprecated. Use torch.sigmoid instead.\")\n",
            "/usr/local/lib/python3.6/dist-packages/torch/nn/modules/upsampling.py:129: UserWarning: nn.Upsample is deprecated. Use nn.functional.interpolate instead.\n",
            "  warnings.warn(\"nn.{} is deprecated. Use nn.functional.interpolate instead.\".format(self.name))\n",
            "/usr/local/lib/python3.6/dist-packages/torch/nn/functional.py:1320: UserWarning: nn.functional.tanh is deprecated. Use torch.tanh instead.\n",
            "  warnings.warn(\"nn.functional.tanh is deprecated. Use torch.tanh instead.\")\n"
          ],
          "name": "stderr"
        },
        {
          "output_type": "stream",
          "text": [
            "epochs : 0 g_error : 50.697174072265625 discriminator_error :0.6577025651931763\n",
            "epochs : 0 g_error : 51.912811279296875 discriminator_error :0.6318631172180176\n",
            "epochs : 0 g_error : 51.632835388183594 discriminator_error :0.6277487277984619\n",
            "epochs : 0 g_error : 52.378028869628906 discriminator_error :0.6359759569168091\n",
            "epochs : 0 g_error : 51.557865142822266 discriminator_error :0.659159779548645\n",
            "epochs : 1 g_error : 52.35901641845703 discriminator_error :0.6356384754180908\n",
            "epochs : 1 g_error : 52.24445343017578 discriminator_error :0.636372447013855\n",
            "epochs : 1 g_error : 52.089290618896484 discriminator_error :0.6093904376029968\n",
            "epochs : 1 g_error : 51.479549407958984 discriminator_error :0.6384469270706177\n",
            "epochs : 1 g_error : 51.230159759521484 discriminator_error :0.6462578773498535\n",
            "epochs : 2 g_error : 52.1240348815918 discriminator_error :0.6200084686279297\n",
            "epochs : 2 g_error : 51.094444274902344 discriminator_error :0.6235784292221069\n",
            "epochs : 2 g_error : 51.18182373046875 discriminator_error :0.6197402477264404\n",
            "epochs : 2 g_error : 51.15361022949219 discriminator_error :0.6297070980072021\n",
            "epochs : 2 g_error : 51.87047576904297 discriminator_error :0.611544668674469\n",
            "epochs : 3 g_error : 51.89411926269531 discriminator_error :0.5805374979972839\n",
            "epochs : 3 g_error : 51.01728057861328 discriminator_error :0.6321142315864563\n",
            "epochs : 3 g_error : 51.440452575683594 discriminator_error :0.5946487188339233\n",
            "epochs : 3 g_error : 52.08472442626953 discriminator_error :0.6138401627540588\n",
            "epochs : 3 g_error : 51.42061996459961 discriminator_error :0.6244097948074341\n",
            "epochs : 4 g_error : 52.08740997314453 discriminator_error :0.6285279989242554\n",
            "epochs : 4 g_error : 51.7901611328125 discriminator_error :0.5944584012031555\n",
            "epochs : 4 g_error : 51.6755256652832 discriminator_error :0.6128486394882202\n",
            "epochs : 4 g_error : 51.06315612792969 discriminator_error :0.6065666079521179\n",
            "epochs : 4 g_error : 51.45903015136719 discriminator_error :0.6193073391914368\n",
            "epochs : 5 g_error : 51.31369400024414 discriminator_error :0.6033009886741638\n",
            "epochs : 5 g_error : 51.84590148925781 discriminator_error :0.5677968859672546\n",
            "epochs : 5 g_error : 52.071083068847656 discriminator_error :0.5827507972717285\n",
            "epochs : 5 g_error : 51.766258239746094 discriminator_error :0.5649115443229675\n",
            "epochs : 5 g_error : 50.96577072143555 discriminator_error :0.6005034446716309\n",
            "epochs : 6 g_error : 51.89349365234375 discriminator_error :0.5520489811897278\n",
            "epochs : 6 g_error : 51.898231506347656 discriminator_error :0.5544893741607666\n",
            "epochs : 6 g_error : 51.5049934387207 discriminator_error :0.5565069317817688\n",
            "epochs : 6 g_error : 52.29240417480469 discriminator_error :0.5566399097442627\n",
            "epochs : 6 g_error : 51.691463470458984 discriminator_error :0.5739679336547852\n",
            "epochs : 7 g_error : 52.24519729614258 discriminator_error :0.5185707807540894\n",
            "epochs : 7 g_error : 52.16606140136719 discriminator_error :0.5454274415969849\n",
            "epochs : 7 g_error : 52.06098937988281 discriminator_error :0.5222646594047546\n",
            "epochs : 7 g_error : 52.115318298339844 discriminator_error :0.5259206295013428\n",
            "epochs : 7 g_error : 51.733863830566406 discriminator_error :0.5604305863380432\n",
            "epochs : 8 g_error : 51.03659439086914 discriminator_error :0.5579491257667542\n",
            "epochs : 8 g_error : 51.2061653137207 discriminator_error :0.5607895255088806\n",
            "epochs : 8 g_error : 51.88261413574219 discriminator_error :0.5308527946472168\n",
            "epochs : 8 g_error : 50.716896057128906 discriminator_error :0.5780185461044312\n",
            "epochs : 8 g_error : 51.27671813964844 discriminator_error :0.519586980342865\n",
            "epochs : 9 g_error : 51.2957649230957 discriminator_error :0.5160565376281738\n",
            "epochs : 9 g_error : 51.10010528564453 discriminator_error :0.5408984422683716\n",
            "epochs : 9 g_error : 51.92340850830078 discriminator_error :0.513681948184967\n",
            "epochs : 9 g_error : 52.17957305908203 discriminator_error :0.5576409697532654\n",
            "epochs : 9 g_error : 51.113853454589844 discriminator_error :0.5766115188598633\n",
            "epochs : 10 g_error : 51.36478042602539 discriminator_error :0.5808946490287781\n",
            "epochs : 10 g_error : 51.37041091918945 discriminator_error :0.5962820649147034\n",
            "epochs : 10 g_error : 52.63090515136719 discriminator_error :0.5363855361938477\n",
            "epochs : 10 g_error : 51.377254486083984 discriminator_error :0.4938172698020935\n",
            "epochs : 10 g_error : 51.56333923339844 discriminator_error :0.5247871279716492\n",
            "epochs : 11 g_error : 50.918785095214844 discriminator_error :0.5545584559440613\n",
            "epochs : 11 g_error : 51.096473693847656 discriminator_error :0.5117298364639282\n"
          ],
          "name": "stdout"
        }
      ]
    },
    {
      "metadata": {
        "id": "0T6YfP27t5Pm",
        "colab_type": "code",
        "colab": {
          "base_uri": "https://localhost:8080/",
          "height": 273
        },
        "outputId": "212e4ebd-ed05-4514-d626-f07c6bb2c00f"
      },
      "cell_type": "code",
      "source": [
        "from IPython.display import Image\n",
        "Image('/content/generated/0.png')"
      ],
      "execution_count": 150,
      "outputs": [
        {
          "output_type": "execute_result",
          "data": {
            "image/png": "[encoded data removed]",
            "text/plain": [
              "<IPython.core.display.Image object>"
            ]
          },
          "metadata": {
            "tags": []
          },
          "execution_count": 150
        }
      ]
    }
  ]
}