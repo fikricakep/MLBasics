{
  "nbformat": 4,
  "nbformat_minor": 0,
  "metadata": {
    "colab": {
      "name": "image_colorization.ipynb",
      "version": "0.3.2",
      "provenance": [],
      "collapsed_sections": []
    },
    "kernelspec": {
      "name": "python3",
      "display_name": "Python 3"
    },
    "accelerator": "GPU"
  },
  "cells": [
    {
      "metadata": {
        "id": "vbmGfr-WtP8c",
        "colab_type": "code",
        "outputId": "e55b2aef-02df-49bd-f76b-dfa3248fe2d2",
        "colab": {
          "base_uri": "https://localhost:8080/",
          "height": 613
        }
      },
      "cell_type": "code",
      "source": [
        "!pip3 install torch torchvision\n",
        "!pip install torchsummary\n",
        "!pip install pyunpack\n",
        "!pip install patool"
      ],
      "execution_count": 1,
      "outputs": [
        {
          "output_type": "stream",
          "text": [
            "Requirement already satisfied: torch in /usr/local/lib/python3.6/dist-packages (1.0.0)\n",
            "Requirement already satisfied: torchvision in /usr/local/lib/python3.6/dist-packages (0.2.1)\n",
            "Requirement already satisfied: six in /usr/local/lib/python3.6/dist-packages (from torchvision) (1.11.0)\n",
            "Collecting pillow>=4.1.1 (from torchvision)\n",
            "\u001b[?25l  Downloading https://files.pythonhosted.org/packages/85/5e/e91792f198bbc5a0d7d3055ad552bc4062942d27eaf75c3e2783cf64eae5/Pillow-5.4.1-cp36-cp36m-manylinux1_x86_64.whl (2.0MB)\n",
            "\u001b[K    100% |████████████████████████████████| 2.0MB 9.7MB/s \n",
            "\u001b[?25hRequirement already satisfied: numpy in /usr/local/lib/python3.6/dist-packages (from torchvision) (1.14.6)\n",
            "Installing collected packages: pillow\n",
            "  Found existing installation: Pillow 4.0.0\n",
            "    Uninstalling Pillow-4.0.0:\n",
            "      Successfully uninstalled Pillow-4.0.0\n",
            "Successfully installed pillow-5.4.1\n",
            "\u001b[0;31;1mWARNING: The following packages were previously imported in this runtime:\n",
            "  [PIL]\n",
            "You must restart the runtime in order to use newly installed versions.\u001b[0m\n",
            "Requirement already satisfied: torchsummary in /usr/local/lib/python3.6/dist-packages (1.5.1)\n",
            "Collecting pyunpack\n",
            "  Downloading https://files.pythonhosted.org/packages/79/dc/44cd41fb99d184ae7c2eac439a52ca624d5ece62b0302c3437fcc4ce3b58/pyunpack-0.1.2.tar.gz\n",
            "Collecting easyprocess (from pyunpack)\n",
            "  Downloading https://files.pythonhosted.org/packages/45/3a/4eecc0c7995a13a64739bbedc0d3691fc574245b7e79cff81905aa0c2b38/EasyProcess-0.2.5.tar.gz\n",
            "Building wheels for collected packages: pyunpack, easyprocess\n",
            "  Running setup.py bdist_wheel for pyunpack ... \u001b[?25l-\b \b\\\b \b|\b \b/\b \bdone\n",
            "\u001b[?25h  Stored in directory: /root/.cache/pip/wheels/af/44/08/60613970881e542c0baad1f2dea5ed8e6716bc573f49197b7e\n",
            "  Running setup.py bdist_wheel for easyprocess ... \u001b[?25l-\b \b\\\b \b|\b \b/\b \b-\b \bdone\n",
            "\u001b[?25h  Stored in directory: /root/.cache/pip/wheels/41/22/19/af15ef6264c58b625a82641ed7483ad05e258fbd8925505227\n",
            "Successfully built pyunpack easyprocess\n",
            "Installing collected packages: easyprocess, pyunpack\n",
            "Successfully installed easyprocess-0.2.5 pyunpack-0.1.2\n",
            "Collecting patool\n",
            "\u001b[?25l  Downloading https://files.pythonhosted.org/packages/43/94/52243ddff508780dd2d8110964320ab4851134a55ab102285b46e740f76a/patool-1.12-py2.py3-none-any.whl (77kB)\n",
            "\u001b[K    100% |████████████████████████████████| 81kB 3.8MB/s \n",
            "\u001b[?25hInstalling collected packages: patool\n",
            "Successfully installed patool-1.12\n"
          ],
          "name": "stdout"
        }
      ]
    },
    {
      "metadata": {
        "id": "qU5L1VyEtsSY",
        "colab_type": "code",
        "colab": {}
      },
      "cell_type": "code",
      "source": [
        "import torch.nn as nn\n",
        "import torch.nn.functional as F\n",
        "import torch\n",
        "from torchsummary import summary\n",
        "from pyunpack import Archive\n",
        "from torch.autograd import Variable\n",
        "from logging import Logger\n",
        "from skimage.color import rgb2lab, lab2rgb, rgb2gray, xyz2lab\n",
        "from skimage.io import imsave"
      ],
      "execution_count": 0,
      "outputs": []
    },
    {
      "metadata": {
        "id": "NsaXdfNjtupR",
        "colab_type": "code",
        "colab": {
          "resources": {
            "http://localhost:8080/nbextensions/google.colab/files.js": {
              "data": "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",
              "ok": true,
              "headers": [
                [
                  "content-type",
                  "application/javascript"
                ]
              ],
              "status": 200,
              "status_text": ""
            }
          },
          "base_uri": "https://localhost:8080/",
          "height": 90
        },
        "outputId": "b6007a65-4a03-4f29-ff0a-3c4ce0c97d1f"
      },
      "cell_type": "code",
      "source": [
        "from google.colab import files\n",
        "files.upload()"
      ],
      "execution_count": 11,
      "outputs": [
        {
          "output_type": "display_data",
          "data": {
            "text/html": [
              "\n",
              "     <input type=\"file\" id=\"files-f94aaaa9-5f92-4c69-8eb1-8c707c9e0322\" name=\"files[]\" multiple disabled />\n",
              "     <output id=\"result-f94aaaa9-5f92-4c69-8eb1-8c707c9e0322\">\n",
              "      Upload widget is only available when the cell has been executed in the\n",
              "      current browser session. Please rerun this cell to enable.\n",
              "      </output>\n",
              "      <script src=\"/nbextensions/google.colab/files.js\"></script> "
            ],
            "text/plain": [
              "<IPython.core.display.HTML object>"
            ]
          },
          "metadata": {
            "tags": []
          }
        },
        {
          "output_type": "stream",
          "text": [
            "Saving kaggle.json to kaggle.json\n"
          ],
          "name": "stdout"
        },
        {
          "output_type": "execute_result",
          "data": {
            "text/plain": [
              "{'kaggle.json': b'{\"username\":\"sanchit2843\",\"key\":\"60f3bf5b207ec03851f344c9a6984da9\"}'}"
            ]
          },
          "metadata": {
            "tags": []
          },
          "execution_count": 11
        }
      ]
    },
    {
      "metadata": {
        "id": "I_oW5Cc_tyPd",
        "colab_type": "code",
        "colab": {}
      },
      "cell_type": "code",
      "source": [
        "!pip install -q kaggle\n",
        "!mkdir -p ~/.kaggle\n",
        "!cp kaggle.json ~/.kaggle/\n",
        "!chmod 600 ~/.kaggle/kaggle.json"
      ],
      "execution_count": 0,
      "outputs": []
    },
    {
      "metadata": {
        "id": "5b29keOqtzhg",
        "colab_type": "code",
        "colab": {
          "base_uri": "https://localhost:8080/",
          "height": 226
        },
        "outputId": "3f37920f-3e2f-473f-9ab5-c4ae8f800113"
      },
      "cell_type": "code",
      "source": [
        "!kaggle competitions download -c cifar-10"
      ],
      "execution_count": 13,
      "outputs": [
        {
          "output_type": "stream",
          "text": [
            "Downloading sampleSubmission.csv to /content\n",
            "\r  0% 0.00/3.04M [00:00<?, ?B/s]\n",
            "100% 3.04M/3.04M [00:00<00:00, 99.0MB/s]\n",
            "Downloading test.7z to /content\n",
            "100% 609M/610M [00:06<00:00, 129MB/s]\n",
            "100% 610M/610M [00:06<00:00, 102MB/s]\n",
            "Downloading train.7z to /content\n",
            " 85% 89.0M/105M [00:00<00:00, 77.7MB/s]\n",
            "100% 105M/105M [00:00<00:00, 114MB/s]  \n",
            "Downloading trainLabels.csv to /content\n",
            "  0% 0.00/575k [00:00<?, ?B/s]\n",
            "100% 575k/575k [00:00<00:00, 80.9MB/s]\n"
          ],
          "name": "stdout"
        }
      ]
    },
    {
      "metadata": {
        "id": "wlXe_b6quCm5",
        "colab_type": "code",
        "colab": {}
      },
      "cell_type": "code",
      "source": [
        "Archive('train.7z').extractall('.')"
      ],
      "execution_count": 0,
      "outputs": []
    },
    {
      "metadata": {
        "id": "VjXE2cW1uyOl",
        "colab_type": "code",
        "colab": {}
      },
      "cell_type": "code",
      "source": [
        "import os\n",
        "a = os.listdir('/content/train')"
      ],
      "execution_count": 0,
      "outputs": []
    },
    {
      "metadata": {
        "id": "jbhrtnG1yab_",
        "colab_type": "code",
        "colab": {}
      },
      "cell_type": "code",
      "source": [
        "img_name = os.path.join('/content/train', a[0])"
      ],
      "execution_count": 0,
      "outputs": []
    },
    {
      "metadata": {
        "id": "LXLtoniRyiSe",
        "colab_type": "code",
        "colab": {}
      },
      "cell_type": "code",
      "source": [
        "a[0]"
      ],
      "execution_count": 0,
      "outputs": []
    },
    {
      "metadata": {
        "id": "F5OJjtz0u1Vt",
        "colab_type": "code",
        "colab": {}
      },
      "cell_type": "code",
      "source": [
        "import cv2\n",
        "from torch.utils.data import Dataset, DataLoader\n",
        "class DataLoader(Dataset):\n",
        "  def __init__(self,a,root_dir):\n",
        "    self.a = a\n",
        "    self.root_dir = root_dir\n",
        "  def __len__(self):\n",
        "      return len(a)\n",
        "  def __getitem__(self, idx):\n",
        "      img_name = os.path.join(self.root_dir, a[idx])\n",
        "      target = cv2.imread(img_name)\n",
        "      input_img = cv2.imread(img_name,0)\n",
        "      target = target/255\n",
        "      return input_img,target"
      ],
      "execution_count": 0,
      "outputs": []
    },
    {
      "metadata": {
        "id": "UV52Lu_3wD0m",
        "colab_type": "code",
        "outputId": "469f8de0-3e80-4473-a5d4-d7b39cf9e10e",
        "colab": {
          "base_uri": "https://localhost:8080/",
          "height": 628
        }
      },
      "cell_type": "code",
      "source": [
        "# input to output\n",
        "class Generator_1(nn.Module):\n",
        "  def __init__(self):\n",
        "    super(Generator_1,self).__init__()\n",
        "    self.conv1 = nn.Sequential(\n",
        "                                nn.Conv2d(1,32,kernel_size = 4,stride = 2),\n",
        "                                nn.BatchNorm2d(32),\n",
        "                                nn.LeakyReLU(0.5)\n",
        "                              )\n",
        "    self.conv2 = nn.Sequential(\n",
        "                                nn.Conv2d(32,64,kernel_size = 4,stride = 2),\n",
        "                                nn.BatchNorm2d(64),\n",
        "                                nn.LeakyReLU(0.5)\n",
        "                              )\n",
        "    self.conv3 = nn.Sequential(\n",
        "                                nn.Conv2d(64,128,kernel_size = 3,stride = 1),\n",
        "                                nn.BatchNorm2d(128),\n",
        "                                nn.LeakyReLU(0.5)\n",
        "                              )\n",
        "    #Deconvolution\n",
        "    self.deconv1 = nn.Sequential(\n",
        "                                nn.ConvTranspose2d(128,64,kernel_size = 3,stride = 1),\n",
        "                                nn.BatchNorm2d(64),\n",
        "                                nn.LeakyReLU(0.5)\n",
        "                              )\n",
        "    self.deconv2 = nn.Sequential(\n",
        "                                nn.ConvTranspose2d(64,32,kernel_size = 4,stride = 2),\n",
        "                                nn.BatchNorm2d(32),\n",
        "                                nn.LeakyReLU(0.5)\n",
        "                              )\n",
        "    self.deconv3 = nn.Sequential(\n",
        "                                nn.ConvTranspose2d(32,3,kernel_size = 4,stride = 2),\n",
        "                                nn.BatchNorm2d(3),\n",
        "                                nn.LeakyReLU(0.5)\n",
        "                              )\n",
        "    self.deconv4 = nn.Sequential(\n",
        "                                nn.ConvTranspose2d(3,3,kernel_size = 3,stride = 1),\n",
        "                                nn.BatchNorm2d(3),\n",
        "                              )\n",
        "    \n",
        "  def forward(self,x):\n",
        "    x = self.conv1(x)\n",
        "    x = self.conv2(x)\n",
        "    x = self.conv3(x)\n",
        "    x = self.deconv1(x)\n",
        "    x = self.deconv2(x)\n",
        "    x = self.deconv3(x)\n",
        "    x = F.tanh(self.deconv4(x))\n",
        "    return x\n",
        "  \n",
        "\n",
        "device = torch.device(\"cuda\" if torch.cuda.is_available() else \"cpu\")\n",
        "G_BC = Generator_1().to(device)\n",
        "summary(G_BC, (1, 32, 32))"
      ],
      "execution_count": 55,
      "outputs": [
        {
          "output_type": "stream",
          "text": [
            "----------------------------------------------------------------\n",
            "        Layer (type)               Output Shape         Param #\n",
            "================================================================\n",
            "            Conv2d-1           [-1, 32, 15, 15]             544\n",
            "       BatchNorm2d-2           [-1, 32, 15, 15]              64\n",
            "         LeakyReLU-3           [-1, 32, 15, 15]               0\n",
            "            Conv2d-4             [-1, 64, 6, 6]          32,832\n",
            "       BatchNorm2d-5             [-1, 64, 6, 6]             128\n",
            "         LeakyReLU-6             [-1, 64, 6, 6]               0\n",
            "            Conv2d-7            [-1, 128, 4, 4]          73,856\n",
            "       BatchNorm2d-8            [-1, 128, 4, 4]             256\n",
            "         LeakyReLU-9            [-1, 128, 4, 4]               0\n",
            "  ConvTranspose2d-10             [-1, 64, 6, 6]          73,792\n",
            "      BatchNorm2d-11             [-1, 64, 6, 6]             128\n",
            "        LeakyReLU-12             [-1, 64, 6, 6]               0\n",
            "  ConvTranspose2d-13           [-1, 32, 14, 14]          32,800\n",
            "      BatchNorm2d-14           [-1, 32, 14, 14]              64\n",
            "        LeakyReLU-15           [-1, 32, 14, 14]               0\n",
            "  ConvTranspose2d-16            [-1, 3, 30, 30]           1,539\n",
            "      BatchNorm2d-17            [-1, 3, 30, 30]               6\n",
            "        LeakyReLU-18            [-1, 3, 30, 30]               0\n",
            "  ConvTranspose2d-19            [-1, 3, 32, 32]              84\n",
            "      BatchNorm2d-20            [-1, 3, 32, 32]               6\n",
            "================================================================\n",
            "Total params: 216,099\n",
            "Trainable params: 216,099\n",
            "Non-trainable params: 0\n",
            "----------------------------------------------------------------\n",
            "Input size (MB): 0.00\n",
            "Forward/backward pass size (MB): 0.57\n",
            "Params size (MB): 0.82\n",
            "Estimated Total Size (MB): 1.40\n",
            "----------------------------------------------------------------\n"
          ],
          "name": "stdout"
        },
        {
          "output_type": "stream",
          "text": [
            "/usr/local/lib/python3.6/dist-packages/torch/nn/functional.py:1320: UserWarning: nn.functional.tanh is deprecated. Use torch.tanh instead.\n",
            "  warnings.warn(\"nn.functional.tanh is deprecated. Use torch.tanh instead.\")\n"
          ],
          "name": "stderr"
        }
      ]
    },
    {
      "metadata": {
        "id": "w1Z9u_QJN-Vj",
        "colab_type": "code",
        "colab": {
          "base_uri": "https://localhost:8080/",
          "height": 628
        },
        "outputId": "1fc9b5a0-1c72-4699-d9b6-96db52562f17"
      },
      "cell_type": "code",
      "source": [
        "# input to output\n",
        "class Generator_2(nn.Module):\n",
        "  def __init__(self):\n",
        "    super(Generator_2,self).__init__()\n",
        "    self.conv1 = nn.Sequential(\n",
        "                                nn.Conv2d(3,32,kernel_size = 4,stride = 2),\n",
        "                                nn.BatchNorm2d(32),\n",
        "                                nn.LeakyReLU(0.5)\n",
        "                              )\n",
        "    self.conv2 = nn.Sequential(\n",
        "                                nn.Conv2d(32,64,kernel_size = 4,stride = 2),\n",
        "                                nn.BatchNorm2d(64),\n",
        "                                nn.LeakyReLU(0.5)\n",
        "                              )\n",
        "    self.conv3 = nn.Sequential(\n",
        "                                nn.Conv2d(64,128,kernel_size = 3,stride = 1),\n",
        "                                nn.BatchNorm2d(128),\n",
        "                                nn.LeakyReLU(0.5)\n",
        "                              )\n",
        "    #Deconvolution\n",
        "    self.deconv1 = nn.Sequential(\n",
        "                                nn.ConvTranspose2d(128,64,kernel_size = 3,stride = 1),\n",
        "                                nn.BatchNorm2d(64),\n",
        "                                nn.LeakyReLU(0.5)\n",
        "                              )\n",
        "    self.deconv2 = nn.Sequential(\n",
        "                                nn.ConvTranspose2d(64,32,kernel_size = 4,stride = 2),\n",
        "                                nn.BatchNorm2d(32),\n",
        "                                nn.LeakyReLU(0.5)\n",
        "                              )\n",
        "    self.deconv3 = nn.Sequential(\n",
        "                                nn.ConvTranspose2d(32,1,kernel_size = 4,stride = 2),\n",
        "                                nn.BatchNorm2d(1),\n",
        "                                nn.LeakyReLU(0.5)\n",
        "                              )\n",
        "    self.deconv4 = nn.Sequential(\n",
        "                                nn.ConvTranspose2d(1,1,kernel_size = 3,stride = 1),\n",
        "                                nn.BatchNorm2d(1),\n",
        "                              )\n",
        "    \n",
        "  def forward(self,x):\n",
        "    x = self.conv1(x)\n",
        "    x = self.conv2(x)\n",
        "    x = self.conv3(x)\n",
        "    x = self.deconv1(x)\n",
        "    x = self.deconv2(x)\n",
        "    x = self.deconv3(x)\n",
        "    x = F.tanh(self.deconv4(x))\n",
        "    return x\n",
        "  \n",
        "\n",
        "device = torch.device(\"cuda\" if torch.cuda.is_available() else \"cpu\")\n",
        "G_CB = Generator_2().to(device)\n",
        "summary(G_CB, (3, 32, 32))"
      ],
      "execution_count": 56,
      "outputs": [
        {
          "output_type": "stream",
          "text": [
            "----------------------------------------------------------------\n",
            "        Layer (type)               Output Shape         Param #\n",
            "================================================================\n",
            "            Conv2d-1           [-1, 32, 15, 15]           1,568\n",
            "       BatchNorm2d-2           [-1, 32, 15, 15]              64\n",
            "         LeakyReLU-3           [-1, 32, 15, 15]               0\n",
            "            Conv2d-4             [-1, 64, 6, 6]          32,832\n",
            "       BatchNorm2d-5             [-1, 64, 6, 6]             128\n",
            "         LeakyReLU-6             [-1, 64, 6, 6]               0\n",
            "            Conv2d-7            [-1, 128, 4, 4]          73,856\n",
            "       BatchNorm2d-8            [-1, 128, 4, 4]             256\n",
            "         LeakyReLU-9            [-1, 128, 4, 4]               0\n",
            "  ConvTranspose2d-10             [-1, 64, 6, 6]          73,792\n",
            "      BatchNorm2d-11             [-1, 64, 6, 6]             128\n",
            "        LeakyReLU-12             [-1, 64, 6, 6]               0\n",
            "  ConvTranspose2d-13           [-1, 32, 14, 14]          32,800\n",
            "      BatchNorm2d-14           [-1, 32, 14, 14]              64\n",
            "        LeakyReLU-15           [-1, 32, 14, 14]               0\n",
            "  ConvTranspose2d-16            [-1, 1, 30, 30]             513\n",
            "      BatchNorm2d-17            [-1, 1, 30, 30]               2\n",
            "        LeakyReLU-18            [-1, 1, 30, 30]               0\n",
            "  ConvTranspose2d-19            [-1, 1, 32, 32]              10\n",
            "      BatchNorm2d-20            [-1, 1, 32, 32]               2\n",
            "================================================================\n",
            "Total params: 216,015\n",
            "Trainable params: 216,015\n",
            "Non-trainable params: 0\n",
            "----------------------------------------------------------------\n",
            "Input size (MB): 0.01\n",
            "Forward/backward pass size (MB): 0.50\n",
            "Params size (MB): 0.82\n",
            "Estimated Total Size (MB): 1.33\n",
            "----------------------------------------------------------------\n"
          ],
          "name": "stdout"
        },
        {
          "output_type": "stream",
          "text": [
            "/usr/local/lib/python3.6/dist-packages/torch/nn/functional.py:1320: UserWarning: nn.functional.tanh is deprecated. Use torch.tanh instead.\n",
            "  warnings.warn(\"nn.functional.tanh is deprecated. Use torch.tanh instead.\")\n"
          ],
          "name": "stderr"
        }
      ]
    },
    {
      "metadata": {
        "id": "iASWkhQazlHV",
        "colab_type": "code",
        "colab": {}
      },
      "cell_type": "code",
      "source": [
        "root_dir = '/content/train'\n",
        "dataset = DataLoader(a,root_dir)"
      ],
      "execution_count": 0,
      "outputs": []
    },
    {
      "metadata": {
        "id": "_rsaGbZQn2vR",
        "colab_type": "code",
        "colab": {}
      },
      "cell_type": "code",
      "source": [
        "dataloader = torch.utils.data.DataLoader(dataset, batch_size = 32, shuffle = True)"
      ],
      "execution_count": 0,
      "outputs": []
    },
    {
      "metadata": {
        "id": "SQi5F-INwEim",
        "colab_type": "code",
        "outputId": "3ce97963-192b-4783-a8e9-0c5e586d3cb9",
        "colab": {
          "base_uri": "https://localhost:8080/",
          "height": 610
        }
      },
      "cell_type": "code",
      "source": [
        "class Discriminator_1(nn.Module):\n",
        "  def __init__(self):\n",
        "    super(Discriminator_1,self).__init__()\n",
        "    self.conv1 = nn.Sequential(\n",
        "                                nn.Conv2d(3,32,kernel_size = 4,stride = 2),\n",
        "                                nn.BatchNorm2d(32),\n",
        "                                nn.LeakyReLU(0.5)\n",
        "                              )\n",
        "    self.conv2 = nn.Sequential(\n",
        "                                nn.Conv2d(32,64,kernel_size = 4,stride = 2),\n",
        "                                nn.BatchNorm2d(64),\n",
        "                                nn.LeakyReLU(0.5)\n",
        "                              )\n",
        "    self.conv3 = nn.Sequential(\n",
        "                                nn.Conv2d(64,128,kernel_size = 3,stride = 1),\n",
        "                                nn.BatchNorm2d(128),\n",
        "                                nn.LeakyReLU(0.5)\n",
        "                              )\n",
        "    self.conv4 = nn.Sequential(\n",
        "                                nn.Conv2d(128,256,kernel_size = 3,stride = 1),\n",
        "                                nn.BatchNorm2d(256),\n",
        "                                nn.LeakyReLU(0.5)\n",
        "                              )\n",
        "    self.fc1 = nn.Sequential( \n",
        "                                nn.Linear(1024, 512),\n",
        "                                nn.LeakyReLU(0.2),\n",
        "                                nn.Dropout(0.3)\n",
        "                            )\n",
        "    self.fc2 = nn.Sequential( \n",
        "                                nn.Linear(512, 128),\n",
        "                                nn.LeakyReLU(0.2),\n",
        "                                nn.Dropout(0.3)\n",
        "                            )\n",
        "    self.fc3 = nn.Sequential( \n",
        "                                nn.Linear(128, 1),                             \n",
        "                            )\n",
        "    \n",
        "  def forward(self,x):\n",
        "    x = self.conv1(x)\n",
        "    x = self.conv2(x)\n",
        "    x = self.conv3(x)\n",
        "    x = self.conv4(x)\n",
        "    x = x.view(-1,1024)\n",
        "    x = self.fc1(x)\n",
        "    x = self.fc2(x)\n",
        "    x = self.fc3(x)\n",
        "    x = F.sigmoid(x)\n",
        "    return x\n",
        "D_B = Discriminator_1().to(device)\n",
        "summary(D_B, (3, 32, 32))"
      ],
      "execution_count": 57,
      "outputs": [
        {
          "output_type": "stream",
          "text": [
            "----------------------------------------------------------------\n",
            "        Layer (type)               Output Shape         Param #\n",
            "================================================================\n",
            "            Conv2d-1           [-1, 32, 15, 15]           1,568\n",
            "       BatchNorm2d-2           [-1, 32, 15, 15]              64\n",
            "         LeakyReLU-3           [-1, 32, 15, 15]               0\n",
            "            Conv2d-4             [-1, 64, 6, 6]          32,832\n",
            "       BatchNorm2d-5             [-1, 64, 6, 6]             128\n",
            "         LeakyReLU-6             [-1, 64, 6, 6]               0\n",
            "            Conv2d-7            [-1, 128, 4, 4]          73,856\n",
            "       BatchNorm2d-8            [-1, 128, 4, 4]             256\n",
            "         LeakyReLU-9            [-1, 128, 4, 4]               0\n",
            "           Conv2d-10            [-1, 256, 2, 2]         295,168\n",
            "      BatchNorm2d-11            [-1, 256, 2, 2]             512\n",
            "        LeakyReLU-12            [-1, 256, 2, 2]               0\n",
            "           Linear-13                  [-1, 512]         524,800\n",
            "        LeakyReLU-14                  [-1, 512]               0\n",
            "          Dropout-15                  [-1, 512]               0\n",
            "           Linear-16                  [-1, 128]          65,664\n",
            "        LeakyReLU-17                  [-1, 128]               0\n",
            "          Dropout-18                  [-1, 128]               0\n",
            "           Linear-19                    [-1, 1]             129\n",
            "================================================================\n",
            "Total params: 994,977\n",
            "Trainable params: 994,977\n",
            "Non-trainable params: 0\n",
            "----------------------------------------------------------------\n",
            "Input size (MB): 0.01\n",
            "Forward/backward pass size (MB): 0.30\n",
            "Params size (MB): 3.80\n",
            "Estimated Total Size (MB): 4.11\n",
            "----------------------------------------------------------------\n"
          ],
          "name": "stdout"
        },
        {
          "output_type": "stream",
          "text": [
            "/usr/local/lib/python3.6/dist-packages/torch/nn/functional.py:1332: UserWarning: nn.functional.sigmoid is deprecated. Use torch.sigmoid instead.\n",
            "  warnings.warn(\"nn.functional.sigmoid is deprecated. Use torch.sigmoid instead.\")\n"
          ],
          "name": "stderr"
        }
      ]
    },
    {
      "metadata": {
        "id": "LwExaAKmOa78",
        "colab_type": "code",
        "colab": {
          "base_uri": "https://localhost:8080/",
          "height": 610
        },
        "outputId": "06a0823d-df02-42f2-d72d-2062dd13ded7"
      },
      "cell_type": "code",
      "source": [
        "class Discriminator_2(nn.Module):\n",
        "  def __init__(self):\n",
        "    super(Discriminator_2,self).__init__()\n",
        "    self.conv1 = nn.Sequential(\n",
        "                                nn.Conv2d(1,32,kernel_size = 4,stride = 2),\n",
        "                                nn.BatchNorm2d(32),\n",
        "                                nn.LeakyReLU(0.5)\n",
        "                              )\n",
        "    self.conv2 = nn.Sequential(\n",
        "                                nn.Conv2d(32,64,kernel_size = 4,stride = 2),\n",
        "                                nn.BatchNorm2d(64),\n",
        "                                nn.LeakyReLU(0.5)\n",
        "                              )\n",
        "    self.conv3 = nn.Sequential(\n",
        "                                nn.Conv2d(64,128,kernel_size = 3,stride = 1),\n",
        "                                nn.BatchNorm2d(128),\n",
        "                                nn.LeakyReLU(0.5)\n",
        "                              )\n",
        "    self.conv4 = nn.Sequential(\n",
        "                                nn.Conv2d(128,256,kernel_size = 3,stride = 1),\n",
        "                                nn.BatchNorm2d(256),\n",
        "                                nn.LeakyReLU(0.5)\n",
        "                              )\n",
        "    self.fc1 = nn.Sequential( \n",
        "                                nn.Linear(1024, 512),\n",
        "                                nn.LeakyReLU(0.2),\n",
        "                                nn.Dropout(0.3)\n",
        "                            )\n",
        "    self.fc2 = nn.Sequential( \n",
        "                                nn.Linear(512, 128),\n",
        "                                nn.LeakyReLU(0.2),\n",
        "                                nn.Dropout(0.3)\n",
        "                            )\n",
        "    self.fc3 = nn.Sequential( \n",
        "                                nn.Linear(128, 1),                             \n",
        "                            )\n",
        "    \n",
        "  def forward(self,x):\n",
        "    x = self.conv1(x)\n",
        "    x = self.conv2(x)\n",
        "    x = self.conv3(x)\n",
        "    x = self.conv4(x)\n",
        "    x = x.view(-1,1024)\n",
        "    x = self.fc1(x)\n",
        "    x = self.fc2(x)\n",
        "    x = self.fc3(x)\n",
        "    x = F.sigmoid(x)\n",
        "    return x\n",
        "D_C = Discriminator_2().to(device)\n",
        "summary(D_C, (1, 32, 32))"
      ],
      "execution_count": 58,
      "outputs": [
        {
          "output_type": "stream",
          "text": [
            "----------------------------------------------------------------\n",
            "        Layer (type)               Output Shape         Param #\n",
            "================================================================\n",
            "            Conv2d-1           [-1, 32, 15, 15]             544\n",
            "       BatchNorm2d-2           [-1, 32, 15, 15]              64\n",
            "         LeakyReLU-3           [-1, 32, 15, 15]               0\n",
            "            Conv2d-4             [-1, 64, 6, 6]          32,832\n",
            "       BatchNorm2d-5             [-1, 64, 6, 6]             128\n",
            "         LeakyReLU-6             [-1, 64, 6, 6]               0\n",
            "            Conv2d-7            [-1, 128, 4, 4]          73,856\n",
            "       BatchNorm2d-8            [-1, 128, 4, 4]             256\n",
            "         LeakyReLU-9            [-1, 128, 4, 4]               0\n",
            "           Conv2d-10            [-1, 256, 2, 2]         295,168\n",
            "      BatchNorm2d-11            [-1, 256, 2, 2]             512\n",
            "        LeakyReLU-12            [-1, 256, 2, 2]               0\n",
            "           Linear-13                  [-1, 512]         524,800\n",
            "        LeakyReLU-14                  [-1, 512]               0\n",
            "          Dropout-15                  [-1, 512]               0\n",
            "           Linear-16                  [-1, 128]          65,664\n",
            "        LeakyReLU-17                  [-1, 128]               0\n",
            "          Dropout-18                  [-1, 128]               0\n",
            "           Linear-19                    [-1, 1]             129\n",
            "================================================================\n",
            "Total params: 993,953\n",
            "Trainable params: 993,953\n",
            "Non-trainable params: 0\n",
            "----------------------------------------------------------------\n",
            "Input size (MB): 0.00\n",
            "Forward/backward pass size (MB): 0.30\n",
            "Params size (MB): 3.79\n",
            "Estimated Total Size (MB): 4.10\n",
            "----------------------------------------------------------------\n"
          ],
          "name": "stdout"
        },
        {
          "output_type": "stream",
          "text": [
            "/usr/local/lib/python3.6/dist-packages/torch/nn/functional.py:1332: UserWarning: nn.functional.sigmoid is deprecated. Use torch.sigmoid instead.\n",
            "  warnings.warn(\"nn.functional.sigmoid is deprecated. Use torch.sigmoid instead.\")\n"
          ],
          "name": "stderr"
        }
      ]
    },
    {
      "metadata": {
        "id": "6yYV7yonwJA1",
        "colab_type": "code",
        "colab": {}
      },
      "cell_type": "code",
      "source": [
        "import torch.optim as optim\n",
        "d_B_optimizer = optim.Adam(D_B.parameters(), lr=0.000001)\n",
        "d_C_optimizer = optim.Adam(D_C.parameters(), lr=0.000001)\n",
        "g_BC_optimizer = optim.Adam(G_BC.parameters(), lr=0.01)\n",
        "g_CB_optimizer = optim.Adam(G_CB.parameters(), lr=0.01)\n",
        "\n",
        "criterion_GAN = torch.nn.MSELoss()\n",
        "criterion_cycle = torch.nn.L1Loss()"
      ],
      "execution_count": 0,
      "outputs": []
    },
    {
      "metadata": {
        "id": "Ngo0hNUozOqL",
        "colab_type": "code",
        "colab": {}
      },
      "cell_type": "code",
      "source": [
        "def ones_target(size):\n",
        "    '''\n",
        "    Tensor containing ones, with shape = size\n",
        "    '''\n",
        "    data = Variable(torch.ones(size, 1))\n",
        "    data = data.type(torch.cuda.FloatTensor)\n",
        "    return data\n",
        "\n",
        "def zeros_target(size):\n",
        "    '''\n",
        "    Tensor containing zeros, with shape = size\n",
        "    '''\n",
        "    data = Variable(torch.zeros(size, 1))\n",
        "    data = data.type(torch.cuda.FloatTensor)\n",
        "    return data"
      ],
      "execution_count": 0,
      "outputs": []
    },
    {
      "metadata": {
        "id": "MWGEXI4SwO-N",
        "colab_type": "code",
        "colab": {}
      },
      "cell_type": "code",
      "source": [
        "'''def train_discriminator(real,fake,optimizer):\n",
        "  optimizer.zero_grad()\n",
        "  N = real.size(0)\n",
        "  #real_data\n",
        "  prediction_real = discriminator(real)\n",
        "  error_real = loss(prediction_real, zeros_target(N))\n",
        "  error_real.backward()\n",
        "  #fake_data\n",
        "  prediction_fake = discriminator(fake)\n",
        "  error_fake = loss(prediction_fake,ones_target(N))\n",
        "  error_fake.backward()\n",
        "  optimizer.step()\n",
        "  return (error_real + error_fake)/2, prediction_real, prediction_fake'''"
      ],
      "execution_count": 0,
      "outputs": []
    },
    {
      "metadata": {
        "id": "E2hqCyxkzXMH",
        "colab_type": "code",
        "colab": {}
      },
      "cell_type": "code",
      "source": [
        "'''def train_generator(optimizer, fake , real_data):\n",
        "    optimizer.zero_grad()\n",
        "    N = fake.size(0)\n",
        "    error2 = loss1(real_data,fake)\n",
        "    error2.backward()\n",
        "    optimizer.step()\n",
        "    error=1\n",
        "    # Sample noise and generate fake data\n",
        "    #prediction = discriminator(fake_data)\n",
        "    #error = loss(prediction, zeros_target(N))\n",
        "    #error.backward()\n",
        "    #optimizer.step()\n",
        "\n",
        "    return error,error2'''"
      ],
      "execution_count": 0,
      "outputs": []
    },
    {
      "metadata": {
        "id": "BtLSzTu0J3Sl",
        "colab_type": "code",
        "colab": {}
      },
      "cell_type": "code",
      "source": [
        "!mkdir generated"
      ],
      "execution_count": 0,
      "outputs": []
    },
    {
      "metadata": {
        "id": "DPZYKAp8z9nx",
        "colab_type": "code",
        "outputId": "22839cea-4329-42c5-9f3f-cd651bfcdd5f",
        "colab": {
          "base_uri": "https://localhost:8080/",
          "height": 1675
        }
      },
      "cell_type": "code",
      "source": [
        "import matplotlib.pyplot as plt\n",
        "import cv2\n",
        "from PIL import Image\n",
        "import numpy as np\n",
        "from IPython.display import Image\n",
        "torch.backends.cudnn.benchmark=True\n",
        "for epoch in range(100):\n",
        "  for n_batch,(input_img,output_img) in enumerate(dataloader):\n",
        "        N = input_img.size(0)\n",
        "        #loss for generator B-->C\n",
        "        input_img = input_img.view(N,1,32,32)\n",
        "        input_img = input_img.to(device)\n",
        "        input_img = input_img.type(torch.cuda.FloatTensor)\n",
        "        output_img = output_img.view(N,3,32,32)\n",
        "        output_img = output_img.to(device)\n",
        "        output_img = output_img.type(torch.cuda.FloatTensor)\n",
        "        g_BC_optimizer.zero_grad()\n",
        "        g_CB_optimizer.zero_grad()\n",
        "        \n",
        "        G_BC.train()\n",
        "        fake_data_BC = G_BC(input_img).detach()\n",
        "        loss_bc = criterion_GAN(fake_data_BC,output_img)\n",
        "        #loss for generator C --> B\n",
        "        \n",
        "        G_CB.train()\n",
        "        fake_data_CB = G_CB(output_img).detach()\n",
        "        loss_cb = criterion_GAN(fake_data_CB,input_img)\n",
        "        loss_gan = (loss_bc+loss_cb)/2\n",
        "        \n",
        "        #Cycle loss\n",
        "        \n",
        "        recovered_B = G_CB(fake_data_BC)\n",
        "        loss_cycle_B = criterion_cycle(recovered_B , input_img)\n",
        "        recovered_C = G_BC(fake_data_CB)\n",
        "        loss_cycle_C = criterion_cycle(recovered_C , output_img)\n",
        "        loss_cycle = (loss_cycle_B + loss_cycle_C)/2\n",
        "        \n",
        "        # total loss gan\n",
        "        loss_g = loss_gan + 5*loss_cycle\n",
        "        \n",
        "        # Train generator\n",
        "        loss_g.backward()\n",
        "        g_BC_optimizer.step()\n",
        "        g_CB_optimizer.step()\n",
        "        \n",
        "        if(n_batch%100 == 0):\n",
        "          # train Discriminator B --> C\n",
        "          d_B_optimizer.zero_grad()\n",
        "          real_image = D_B(output_img)\n",
        "          loss_real = criterion_GAN(real_image , zeros_target(N))\n",
        "\n",
        "          fake_image = D_B(fake_data_BC)\n",
        "          loss_fake = criterion_GAN(fake_image , ones_target(N))\n",
        "          loss_B = (loss_real + loss_fake) / 2\n",
        "          loss_B.backward()\n",
        "          d_B_optimizer.step()\n",
        "\n",
        "\n",
        "          # Train Discriminator C --> B\n",
        "\n",
        "          d_C_optimizer.zero_grad()\n",
        "          real_image = D_C(input_img)\n",
        "          loss_real = criterion_GAN(real_image , zeros_target(N))\n",
        "          fake_image = D_C(fake_data_CB)\n",
        "          loss_fake = criterion_GAN(fake_image , ones_target(N))\n",
        "          loss_C = (loss_real + loss_fake) / 2\n",
        "          loss_C.backward()\n",
        "          d_C_optimizer.step()\n",
        "\n",
        "        \n",
        "        # Display Progress every few batches\n",
        "        if(n_batch%600==0):\n",
        "          print('epochs : {}'.format(epoch) ,  'g_error : {}'.format(loss_g) , 'd_error : {}'.format(loss_B))\n",
        "        \n",
        "  torch.optim.lr_scheduler.StepLR(g_optimizer, 2, gamma=0.1, last_epoch=-1)\n",
        "  G_BC.eval()\n",
        "  image,_ = dataset[4]\n",
        "  image = image.reshape((32,32,1))\n",
        "  image = torch.from_numpy(image)\n",
        "  image = image.type(torch.cuda.FloatTensor)\n",
        "  image = image.view(1,1,32,32)\n",
        "  target = G_BC(image).detach()\n",
        "  b = target.to(torch.device(\"cpu\"))\n",
        "  b = b.numpy()\n",
        "  b = np.reshape(b,(32,32,3))\n",
        "  b = b*255\n",
        "  cv2.imwrite('/content/generated/{}.png'.format(epoch),b)"
      ],
      "execution_count": 0,
      "outputs": [
        {
          "output_type": "stream",
          "text": [
            "/usr/local/lib/python3.6/dist-packages/torch/nn/functional.py:1320: UserWarning: nn.functional.tanh is deprecated. Use torch.tanh instead.\n",
            "  warnings.warn(\"nn.functional.tanh is deprecated. Use torch.tanh instead.\")\n",
            "/usr/local/lib/python3.6/dist-packages/torch/nn/functional.py:1332: UserWarning: nn.functional.sigmoid is deprecated. Use torch.sigmoid instead.\n",
            "  warnings.warn(\"nn.functional.sigmoid is deprecated. Use torch.sigmoid instead.\")\n"
          ],
          "name": "stderr"
        },
        {
          "output_type": "stream",
          "text": [
            "epochs : 0 g_error : 10001.072265625 d_error : 0.2505524158477783\n",
            "epochs : 0 g_error : 9299.5244140625 d_error : 0.24899007380008698\n",
            "epochs : 0 g_error : 9211.935546875 d_error : 0.24729476869106293\n",
            "epochs : 1 g_error : 10358.6298828125 d_error : 0.24622982740402222\n",
            "epochs : 1 g_error : 9831.3193359375 d_error : 0.2507566809654236\n",
            "epochs : 1 g_error : 9831.072265625 d_error : 0.248005211353302\n",
            "epochs : 2 g_error : 8413.3447265625 d_error : 0.251693993806839\n",
            "epochs : 2 g_error : 9197.921875 d_error : 0.24900028109550476\n",
            "epochs : 2 g_error : 9622.6806640625 d_error : 0.24772875010967255\n",
            "epochs : 3 g_error : 10148.517578125 d_error : 0.2516041100025177\n",
            "epochs : 3 g_error : 10024.978515625 d_error : 0.249679297208786\n",
            "epochs : 3 g_error : 9553.8232421875 d_error : 0.2515483796596527\n",
            "epochs : 4 g_error : 9127.287109375 d_error : 0.251237690448761\n",
            "epochs : 4 g_error : 8449.4814453125 d_error : 0.2509765625\n",
            "epochs : 4 g_error : 8722.060546875 d_error : 0.2497122883796692\n",
            "epochs : 5 g_error : 8888.8359375 d_error : 0.2542857229709625\n",
            "epochs : 5 g_error : 9601.1220703125 d_error : 0.2507041394710541\n",
            "epochs : 5 g_error : 8594.05078125 d_error : 0.25021302700042725\n",
            "epochs : 6 g_error : 11431.6103515625 d_error : 0.2507948875427246\n",
            "epochs : 6 g_error : 8966.90234375 d_error : 0.2514912486076355\n",
            "epochs : 6 g_error : 9466.431640625 d_error : 0.2495710849761963\n",
            "epochs : 7 g_error : 9355.7197265625 d_error : 0.2498055398464203\n",
            "epochs : 7 g_error : 9783.8759765625 d_error : 0.24969831109046936\n",
            "epochs : 7 g_error : 7983.595703125 d_error : 0.25037553906440735\n",
            "epochs : 8 g_error : 8650.330078125 d_error : 0.25121453404426575\n",
            "epochs : 8 g_error : 10038.09765625 d_error : 0.24649062752723694\n",
            "epochs : 8 g_error : 8826.4833984375 d_error : 0.2451162189245224\n",
            "epochs : 9 g_error : 8706.013671875 d_error : 0.24750341475009918\n",
            "epochs : 9 g_error : 9538.3896484375 d_error : 0.2489999532699585\n",
            "epochs : 9 g_error : 9283.5673828125 d_error : 0.2472003996372223\n",
            "epochs : 10 g_error : 10331.4453125 d_error : 0.24495074152946472\n",
            "epochs : 10 g_error : 8596.640625 d_error : 0.24678227305412292\n",
            "epochs : 10 g_error : 9714.853515625 d_error : 0.2471533864736557\n",
            "epochs : 11 g_error : 10276.2041015625 d_error : 0.24500712752342224\n",
            "epochs : 11 g_error : 10515.2421875 d_error : 0.247951477766037\n",
            "epochs : 11 g_error : 9135.787109375 d_error : 0.2535598874092102\n",
            "epochs : 12 g_error : 7803.36181640625 d_error : 0.24776017665863037\n",
            "epochs : 12 g_error : 8766.677734375 d_error : 0.24541215598583221\n",
            "epochs : 12 g_error : 9614.6318359375 d_error : 0.2500637173652649\n",
            "epochs : 13 g_error : 9888.4345703125 d_error : 0.24833327531814575\n",
            "epochs : 13 g_error : 9494.763671875 d_error : 0.2466156929731369\n",
            "epochs : 13 g_error : 8593.3232421875 d_error : 0.24604222178459167\n",
            "epochs : 14 g_error : 10103.15234375 d_error : 0.2504352331161499\n",
            "epochs : 14 g_error : 9051.72265625 d_error : 0.2430315762758255\n",
            "epochs : 14 g_error : 8540.1064453125 d_error : 0.24728380143642426\n",
            "epochs : 15 g_error : 9708.271484375 d_error : 0.24549472332000732\n",
            "epochs : 15 g_error : 9816.6953125 d_error : 0.24660103023052216\n",
            "epochs : 15 g_error : 9488.19921875 d_error : 0.2447020262479782\n",
            "epochs : 16 g_error : 10020.056640625 d_error : 0.24320125579833984\n",
            "epochs : 16 g_error : 8585.8017578125 d_error : 0.24486711621284485\n",
            "epochs : 16 g_error : 9521.587890625 d_error : 0.24509400129318237\n",
            "epochs : 17 g_error : 10014.6728515625 d_error : 0.24124331772327423\n",
            "epochs : 17 g_error : 9791.4296875 d_error : 0.2431214600801468\n",
            "epochs : 17 g_error : 8341.9931640625 d_error : 0.2428368479013443\n",
            "epochs : 18 g_error : 8587.90234375 d_error : 0.24172568321228027\n",
            "epochs : 18 g_error : 9901.9501953125 d_error : 0.24172601103782654\n",
            "epochs : 18 g_error : 9686.0771484375 d_error : 0.23818260431289673\n",
            "epochs : 19 g_error : 9740.4296875 d_error : 0.24103300273418427\n",
            "epochs : 19 g_error : 9607.3798828125 d_error : 0.23798254132270813\n",
            "epochs : 19 g_error : 9739.9501953125 d_error : 0.23746255040168762\n",
            "epochs : 20 g_error : 10253.3046875 d_error : 0.23604196310043335\n",
            "epochs : 20 g_error : 10734.44921875 d_error : 0.23812201619148254\n",
            "epochs : 20 g_error : 8274.14453125 d_error : 0.2385985553264618\n",
            "epochs : 21 g_error : 9187.5048828125 d_error : 0.2355370819568634\n",
            "epochs : 21 g_error : 9263.333984375 d_error : 0.23458868265151978\n",
            "epochs : 21 g_error : 9446.7080078125 d_error : 0.23332083225250244\n",
            "epochs : 22 g_error : 7836.3955078125 d_error : 0.23032218217849731\n",
            "epochs : 22 g_error : 9489.677734375 d_error : 0.2295331358909607\n",
            "epochs : 22 g_error : 9932.013671875 d_error : 0.2330491840839386\n",
            "epochs : 23 g_error : 9635.8857421875 d_error : 0.23033347725868225\n",
            "epochs : 23 g_error : 9159.1884765625 d_error : 0.22561228275299072\n",
            "epochs : 23 g_error : 9557.802734375 d_error : 0.22591876983642578\n",
            "epochs : 24 g_error : 8603.716796875 d_error : 0.2252528965473175\n",
            "epochs : 24 g_error : 8792.66796875 d_error : 0.22529764473438263\n",
            "epochs : 24 g_error : 9568.05078125 d_error : 0.22664570808410645\n",
            "epochs : 25 g_error : 9527.7431640625 d_error : 0.22354388236999512\n",
            "epochs : 25 g_error : 11052.9638671875 d_error : 0.22551880776882172\n",
            "epochs : 25 g_error : 10061.6455078125 d_error : 0.2200901359319687\n",
            "epochs : 26 g_error : 10483.935546875 d_error : 0.22135962545871735\n",
            "epochs : 26 g_error : 8983.6826171875 d_error : 0.21755969524383545\n",
            "epochs : 26 g_error : 8780.9208984375 d_error : 0.21842429041862488\n",
            "epochs : 27 g_error : 8939.1181640625 d_error : 0.21200156211853027\n",
            "epochs : 27 g_error : 9888.6611328125 d_error : 0.22004587948322296\n",
            "epochs : 27 g_error : 9055.12890625 d_error : 0.2188931405544281\n",
            "epochs : 28 g_error : 9802.14453125 d_error : 0.21547332406044006\n",
            "epochs : 28 g_error : 9779.203125 d_error : 0.21687957644462585\n",
            "epochs : 28 g_error : 8640.3837890625 d_error : 0.2116421014070511\n",
            "epochs : 29 g_error : 10163.6064453125 d_error : 0.21370698511600494\n",
            "epochs : 29 g_error : 9337.3203125 d_error : 0.2117094099521637\n",
            "epochs : 29 g_error : 10130.44140625 d_error : 0.2069394290447235\n",
            "epochs : 30 g_error : 9693.8671875 d_error : 0.20871701836585999\n"
          ],
          "name": "stdout"
        }
      ]
    },
    {
      "metadata": {
        "id": "KlQfk679VYDf",
        "colab_type": "code",
        "outputId": "ca1ba330-2ac0-468e-ec8d-900a42ea5b22",
        "colab": {
          "base_uri": "https://localhost:8080/",
          "height": 364
        }
      },
      "cell_type": "code",
      "source": [
        "import cv2\n",
        "_,target = dataset[4]\n",
        "\n",
        "c = cv2.imread('/content/generated/34.png')\n",
        "plt.imshow(c)"
      ],
      "execution_count": 54,
      "outputs": [
        {
          "output_type": "execute_result",
          "data": {
            "text/plain": [
              "<matplotlib.image.AxesImage at 0x7f1c0dc120b8>"
            ]
          },
          "metadata": {
            "tags": []
          },
          "execution_count": 54
        },
        {
          "output_type": "display_data",
          "data": {
            "image/png": "[encoded data removed]",
            "text/plain": [
              "<Figure size 576x396 with 1 Axes>"
            ]
          },
          "metadata": {
            "tags": []
          }
        }
      ]
    },
    {
      "metadata": {
        "id": "WqaMt-F_1OS0",
        "colab_type": "code",
        "outputId": "d7089873-ac9c-4237-a3dc-74d1e14d6ca8",
        "colab": {
          "base_uri": "https://localhost:8080/",
          "height": 364
        }
      },
      "cell_type": "code",
      "source": [
        "plt.imshow(target)"
      ],
      "execution_count": 49,
      "outputs": [
        {
          "output_type": "execute_result",
          "data": {
            "text/plain": [
              "<matplotlib.image.AxesImage at 0x7f1c0586aa90>"
            ]
          },
          "metadata": {
            "tags": []
          },
          "execution_count": 49
        },
        {
          "output_type": "display_data",
          "data": {
            "image/png": "[encoded data removed]",
            "text/plain": [
              "<Figure size 576x396 with 1 Axes>"
            ]
          },
          "metadata": {
            "tags": []
          }
        }
      ]
    },
    {
      "metadata": {
        "id": "q21AZNdnKy4o",
        "colab_type": "code",
        "colab": {}
      },
      "cell_type": "code",
      "source": [
        "import torch\n",
        "import torch.nn as nn\n",
        "import torch.nn.functional as F\n",
        "\n",
        "\n",
        "class double_conv(nn.Module):\n",
        "    '''(conv => BN => ReLU) * 2'''\n",
        "    def __init__(self, in_ch, out_ch):\n",
        "        super(double_conv, self).__init__()\n",
        "        self.conv = nn.Sequential(\n",
        "            nn.Conv2d(in_ch, out_ch, 3, padding=1),\n",
        "            nn.BatchNorm2d(out_ch),\n",
        "            nn.ReLU(inplace=True),\n",
        "            nn.Conv2d(out_ch, out_ch, 3, padding=1),\n",
        "            nn.BatchNorm2d(out_ch),\n",
        "            nn.ReLU(inplace=True)\n",
        "        )\n",
        "\n",
        "    def forward(self, x):\n",
        "        x = self.conv(x)\n",
        "        return x\n",
        "\n",
        "\n",
        "class inconv(nn.Module):\n",
        "    def __init__(self, in_ch, out_ch):\n",
        "        super(inconv, self).__init__()\n",
        "        self.conv = double_conv(in_ch, out_ch)\n",
        "\n",
        "    def forward(self, x):\n",
        "        x = self.conv(x)\n",
        "        return x\n",
        "\n",
        "\n",
        "class down(nn.Module):\n",
        "    def __init__(self, in_ch, out_ch):\n",
        "        super(down, self).__init__()\n",
        "        self.mpconv = nn.Sequential(\n",
        "            nn.MaxPool2d(2),\n",
        "            double_conv(in_ch, out_ch)\n",
        "        )\n",
        "\n",
        "    def forward(self, x):\n",
        "        x = self.mpconv(x)\n",
        "        return x\n",
        "\n",
        "\n",
        "class up(nn.Module):\n",
        "    def __init__(self, in_ch, out_ch, bilinear=True):\n",
        "        super(up, self).__init__()\n",
        "\n",
        "        #  would be a nice idea if the upsampling could be learned too,\n",
        "        #  but my machine do not have enough memory to handle all those weights\n",
        "        if bilinear:\n",
        "            self.up = nn.Upsample(scale_factor=2, mode='bilinear', align_corners=True)\n",
        "        else:\n",
        "            self.up = nn.ConvTranspose2d(in_ch//2, in_ch//2, 2, stride=2)\n",
        "\n",
        "        self.conv = double_conv(in_ch, out_ch)\n",
        "\n",
        "    def forward(self, x1, x2):\n",
        "        x1 = self.up(x1)\n",
        "        \n",
        "        # input is CHW\n",
        "        diffY = x2.size()[2] - x1.size()[2]\n",
        "        diffX = x2.size()[3] - x1.size()[3]\n",
        "\n",
        "        x1 = F.pad(x1, (diffX // 2, diffX - diffX//2,\n",
        "                        diffY // 2, diffY - diffY//2))\n",
        "        \n",
        "        # for padding issues, see \n",
        "        # https://github.com/HaiyongJiang/U-Net-Pytorch-Unstructured-Buggy/commit/0e854509c2cea854e247a9c615f175f76fbb2e3a\n",
        "        # https://github.com/xiaopeng-liao/Pytorch-UNet/commit/8ebac70e633bac59fc22bb5195e513d5832fb3bd\n",
        "\n",
        "        x = torch.cat([x2, x1], dim=1)\n",
        "        x = self.conv(x)\n",
        "        return x\n",
        "\n",
        "\n",
        "class outconv(nn.Module):\n",
        "    def __init__(self, in_ch, out_ch):\n",
        "        super(outconv, self).__init__()\n",
        "        self.conv = nn.Conv2d(in_ch, out_ch, 1)\n",
        "\n",
        "    def forward(self, x):\n",
        "        x = self.conv(x)\n",
        "        return x"
      ],
      "execution_count": 0,
      "outputs": []
    },
    {
      "metadata": {
        "id": "X3tV2m-hLzzz",
        "colab_type": "code",
        "colab": {}
      },
      "cell_type": "code",
      "source": [
        "class UNet(nn.Module):\n",
        "    def __init__(self, n_channels, n_classes):\n",
        "        super(UNet, self).__init__()\n",
        "        self.inc = inconv(n_channels, 64)\n",
        "        self.down1 = down(64, 128)\n",
        "        self.down2 = down(128, 256)\n",
        "        self.down3 = down(256, 512)\n",
        "        self.down4 = down(512, 512)\n",
        "        self.up1 = up(1024, 256)\n",
        "        self.up2 = up(512, 128)\n",
        "        self.up3 = up(256, 64)\n",
        "        self.up4 = up(128, 64)\n",
        "        self.outc = outconv(64, n_classes)\n",
        "\n",
        "    def forward(self, x):\n",
        "        x1 = self.inc(x)\n",
        "        x2 = self.down1(x1)\n",
        "        x3 = self.down2(x2)\n",
        "        x4 = self.down3(x3)\n",
        "        x5 = self.down4(x4)\n",
        "        x = self.up1(x5, x4)\n",
        "        x = self.up2(x, x3)\n",
        "        x = self.up3(x, x2)\n",
        "        x = self.up4(x, x1)\n",
        "        x = self.outc(x)\n",
        "        return F.sigmoid(x)"
      ],
      "execution_count": 0,
      "outputs": []
    },
    {
      "metadata": {
        "id": "AMM1BxZW4FDC",
        "colab_type": "code",
        "outputId": "7779fefd-1ef0-4c51-ac1a-9cd4e356c359",
        "colab": {
          "base_uri": "https://localhost:8080/",
          "height": 34
        }
      },
      "cell_type": "code",
      "source": [
        "!pip install torchsummary\n",
        "from torchsummary import summary\n"
      ],
      "execution_count": 0,
      "outputs": [
        {
          "output_type": "stream",
          "text": [
            "Requirement already satisfied: torchsummary in /usr/local/lib/python3.6/dist-packages (1.5.1)\n"
          ],
          "name": "stdout"
        }
      ]
    },
    {
      "metadata": {
        "id": "cRaxlVwE4RHJ",
        "colab_type": "code",
        "outputId": "92f0c6af-30bd-41fd-ea8b-d33b3f63eedf",
        "colab": {
          "base_uri": "https://localhost:8080/",
          "height": 1680
        }
      },
      "cell_type": "code",
      "source": [
        "device = torch.device(\"cuda\" if torch.cuda.is_available() else \"cpu\")\n",
        "model = UNet(1,3).to(device)\n",
        "summary(model, (1, 32, 32))"
      ],
      "execution_count": 0,
      "outputs": [
        {
          "output_type": "stream",
          "text": [
            "----------------------------------------------------------------\n",
            "        Layer (type)               Output Shape         Param #\n",
            "================================================================\n",
            "            Conv2d-1           [-1, 64, 32, 32]             640\n",
            "       BatchNorm2d-2           [-1, 64, 32, 32]             128\n",
            "              ReLU-3           [-1, 64, 32, 32]               0\n",
            "            Conv2d-4           [-1, 64, 32, 32]          36,928\n",
            "       BatchNorm2d-5           [-1, 64, 32, 32]             128\n",
            "              ReLU-6           [-1, 64, 32, 32]               0\n",
            "       double_conv-7           [-1, 64, 32, 32]               0\n",
            "            inconv-8           [-1, 64, 32, 32]               0\n",
            "         MaxPool2d-9           [-1, 64, 16, 16]               0\n",
            "           Conv2d-10          [-1, 128, 16, 16]          73,856\n",
            "      BatchNorm2d-11          [-1, 128, 16, 16]             256\n",
            "             ReLU-12          [-1, 128, 16, 16]               0\n",
            "           Conv2d-13          [-1, 128, 16, 16]         147,584\n",
            "      BatchNorm2d-14          [-1, 128, 16, 16]             256\n",
            "             ReLU-15          [-1, 128, 16, 16]               0\n",
            "      double_conv-16          [-1, 128, 16, 16]               0\n",
            "             down-17          [-1, 128, 16, 16]               0\n",
            "        MaxPool2d-18            [-1, 128, 8, 8]               0\n",
            "           Conv2d-19            [-1, 256, 8, 8]         295,168\n",
            "      BatchNorm2d-20            [-1, 256, 8, 8]             512\n",
            "             ReLU-21            [-1, 256, 8, 8]               0\n",
            "           Conv2d-22            [-1, 256, 8, 8]         590,080\n",
            "      BatchNorm2d-23            [-1, 256, 8, 8]             512\n",
            "             ReLU-24            [-1, 256, 8, 8]               0\n",
            "      double_conv-25            [-1, 256, 8, 8]               0\n",
            "             down-26            [-1, 256, 8, 8]               0\n",
            "        MaxPool2d-27            [-1, 256, 4, 4]               0\n",
            "           Conv2d-28            [-1, 512, 4, 4]       1,180,160\n",
            "      BatchNorm2d-29            [-1, 512, 4, 4]           1,024\n",
            "             ReLU-30            [-1, 512, 4, 4]               0\n",
            "           Conv2d-31            [-1, 512, 4, 4]       2,359,808\n",
            "      BatchNorm2d-32            [-1, 512, 4, 4]           1,024\n",
            "             ReLU-33            [-1, 512, 4, 4]               0\n",
            "      double_conv-34            [-1, 512, 4, 4]               0\n",
            "             down-35            [-1, 512, 4, 4]               0\n",
            "        MaxPool2d-36            [-1, 512, 2, 2]               0\n",
            "           Conv2d-37            [-1, 512, 2, 2]       2,359,808\n",
            "      BatchNorm2d-38            [-1, 512, 2, 2]           1,024\n",
            "             ReLU-39            [-1, 512, 2, 2]               0\n",
            "           Conv2d-40            [-1, 512, 2, 2]       2,359,808\n",
            "      BatchNorm2d-41            [-1, 512, 2, 2]           1,024\n",
            "             ReLU-42            [-1, 512, 2, 2]               0\n",
            "      double_conv-43            [-1, 512, 2, 2]               0\n",
            "             down-44            [-1, 512, 2, 2]               0\n",
            "         Upsample-45            [-1, 512, 4, 4]               0\n",
            "           Conv2d-46            [-1, 256, 4, 4]       2,359,552\n",
            "      BatchNorm2d-47            [-1, 256, 4, 4]             512\n",
            "             ReLU-48            [-1, 256, 4, 4]               0\n",
            "           Conv2d-49            [-1, 256, 4, 4]         590,080\n",
            "      BatchNorm2d-50            [-1, 256, 4, 4]             512\n",
            "             ReLU-51            [-1, 256, 4, 4]               0\n",
            "      double_conv-52            [-1, 256, 4, 4]               0\n",
            "               up-53            [-1, 256, 4, 4]               0\n",
            "         Upsample-54            [-1, 256, 8, 8]               0\n",
            "           Conv2d-55            [-1, 128, 8, 8]         589,952\n",
            "      BatchNorm2d-56            [-1, 128, 8, 8]             256\n",
            "             ReLU-57            [-1, 128, 8, 8]               0\n",
            "           Conv2d-58            [-1, 128, 8, 8]         147,584\n",
            "      BatchNorm2d-59            [-1, 128, 8, 8]             256\n",
            "             ReLU-60            [-1, 128, 8, 8]               0\n",
            "      double_conv-61            [-1, 128, 8, 8]               0\n",
            "               up-62            [-1, 128, 8, 8]               0\n",
            "         Upsample-63          [-1, 128, 16, 16]               0\n",
            "           Conv2d-64           [-1, 64, 16, 16]         147,520\n",
            "      BatchNorm2d-65           [-1, 64, 16, 16]             128\n",
            "             ReLU-66           [-1, 64, 16, 16]               0\n",
            "           Conv2d-67           [-1, 64, 16, 16]          36,928\n",
            "      BatchNorm2d-68           [-1, 64, 16, 16]             128\n",
            "             ReLU-69           [-1, 64, 16, 16]               0\n",
            "      double_conv-70           [-1, 64, 16, 16]               0\n",
            "               up-71           [-1, 64, 16, 16]               0\n",
            "         Upsample-72           [-1, 64, 32, 32]               0\n",
            "           Conv2d-73           [-1, 64, 32, 32]          73,792\n",
            "      BatchNorm2d-74           [-1, 64, 32, 32]             128\n",
            "             ReLU-75           [-1, 64, 32, 32]               0\n",
            "           Conv2d-76           [-1, 64, 32, 32]          36,928\n",
            "      BatchNorm2d-77           [-1, 64, 32, 32]             128\n",
            "             ReLU-78           [-1, 64, 32, 32]               0\n",
            "      double_conv-79           [-1, 64, 32, 32]               0\n",
            "               up-80           [-1, 64, 32, 32]               0\n",
            "           Conv2d-81            [-1, 3, 32, 32]             195\n",
            "          outconv-82            [-1, 3, 32, 32]               0\n",
            "================================================================\n",
            "Total params: 13,394,307\n",
            "Trainable params: 13,394,307\n",
            "Non-trainable params: 0\n",
            "----------------------------------------------------------------\n",
            "Input size (MB): 0.00\n",
            "Forward/backward pass size (MB): 14.59\n",
            "Params size (MB): 51.10\n",
            "Estimated Total Size (MB): 65.69\n",
            "----------------------------------------------------------------\n"
          ],
          "name": "stdout"
        },
        {
          "output_type": "stream",
          "text": [
            "/usr/local/lib/python3.6/dist-packages/torch/nn/modules/upsampling.py:129: UserWarning: nn.Upsample is deprecated. Use nn.functional.interpolate instead.\n",
            "  warnings.warn(\"nn.{} is deprecated. Use nn.functional.interpolate instead.\".format(self.name))\n",
            "/usr/local/lib/python3.6/dist-packages/torch/nn/functional.py:1332: UserWarning: nn.functional.sigmoid is deprecated. Use torch.sigmoid instead.\n",
            "  warnings.warn(\"nn.functional.sigmoid is deprecated. Use torch.sigmoid instead.\")\n"
          ],
          "name": "stderr"
        }
      ]
    }
  ]
}