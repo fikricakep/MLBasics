{
  "nbformat": 4,
  "nbformat_minor": 0,
  "metadata": {
    "colab": {
      "name": "exampleprediction.ipynb",
      "version": "0.3.2",
      "provenance": [],
      "collapsed_sections": [],
      "include_colab_link": true
    },
    "kernelspec": {
      "name": "python3",
      "display_name": "Python 3"
    }
  },
  "cells": [
    {
      "cell_type": "markdown",
      "metadata": {
        "id": "view-in-github",
        "colab_type": "text"
      },
      "source": [
        "<a href=\"https://colab.research.google.com/github/sanchit2843/MusicGenreClassification/blob/master/exampleprediction.ipynb\" target=\"_parent\"><img src=\"https://colab.research.google.com/assets/colab-badge.svg\" alt=\"Open In Colab\"/></a>"
      ]
    },
    {
      "cell_type": "code",
      "metadata": {
        "id": "nSKBl7rE2Ea6",
        "colab_type": "code",
        "outputId": "ee19f7b8-5d48-43e7-fb35-7c535ca8cd91",
        "colab": {
          "base_uri": "https://localhost:8080/",
          "height": 52
        }
      },
      "source": [
        "!pip install googledrivedownloader\n",
        "from google_drive_downloader import GoogleDriveDownloader as gdd\n",
        "gdd.download_file_from_google_drive(file_id='1yV10gYOnepfmSj_08g0gHzstovg7X52q',\n",
        "                                    dest_path='/content/dense161.h5')"
      ],
      "execution_count": 0,
      "outputs": [
        {
          "output_type": "stream",
          "text": [
            "Requirement already satisfied: googledrivedownloader in /usr/local/lib/python3.6/dist-packages (0.4)\n",
            "Downloading 1yV10gYOnepfmSj_08g0gHzstovg7X52q into /content/dense161.h5... Done.\n"
          ],
          "name": "stdout"
        }
      ]
    },
    {
      "cell_type": "code",
      "metadata": {
        "id": "bqQOU3s62Kb3",
        "colab_type": "code",
        "outputId": "3325ae8f-93a2-43d7-f970-9aeb42bd23d4",
        "colab": {
          "base_uri": "https://localhost:8080/",
          "height": 158
        }
      },
      "source": [
        "!git clone https://github.com/sanchit2843/MusicGenreClassification\n",
        "%cd MusicGenreClassification"
      ],
      "execution_count": 0,
      "outputs": [
        {
          "output_type": "stream",
          "text": [
            "Cloning into 'MusicGenreClassification'...\n",
            "remote: Enumerating objects: 117, done.\u001b[K\n",
            "remote: Counting objects:   0% (1/117)   \u001b[K\rremote: Counting objects:   1% (2/117)   \u001b[K\rremote: Counting objects:   2% (3/117)   \u001b[K\rremote: Counting objects:   3% (4/117)   \u001b[K\rremote: Counting objects:   4% (5/117)   \u001b[K\rremote: Counting objects:   5% (6/117)   \u001b[K\rremote: Counting objects:   6% (8/117)   \u001b[K\rremote: Counting objects:   7% (9/117)   \u001b[K\rremote: Counting objects:   8% (10/117)   \u001b[K\rremote: Counting objects:   9% (11/117)   \u001b[K\rremote: Counting objects:  10% (12/117)   \u001b[K\rremote: Counting objects:  11% (13/117)   \u001b[K\rremote: Counting objects:  12% (15/117)   \u001b[K\rremote: Counting objects:  13% (16/117)   \u001b[K\rremote: Counting objects:  14% (17/117)   \u001b[K\rremote: Counting objects:  15% (18/117)   \u001b[K\rremote: Counting objects:  16% (19/117)   \u001b[K\rremote: Counting objects:  17% (20/117)   \u001b[K\rremote: Counting objects:  18% (22/117)   \u001b[K\rremote: Counting objects:  19% (23/117)   \u001b[K\rremote: Counting objects:  20% (24/117)   \u001b[K\rremote: Counting objects:  21% (25/117)   \u001b[K\rremote: Counting objects:  22% (26/117)   \u001b[K\rremote: Counting objects:  23% (27/117)   \u001b[K\rremote: Counting objects:  24% (29/117)   \u001b[K\rremote: Counting objects:  25% (30/117)   \u001b[K\rremote: Counting objects:  26% (31/117)   \u001b[K\rremote: Counting objects:  27% (32/117)   \u001b[K\rremote: Counting objects:  28% (33/117)   \u001b[K\rremote: Counting objects:  29% (34/117)   \u001b[K\rremote: Counting objects:  30% (36/117)   \u001b[K\rremote: Counting objects:  31% (37/117)   \u001b[K\rremote: Counting objects:  32% (38/117)   \u001b[K\rremote: Counting objects:  33% (39/117)   \u001b[K\rremote: Counting objects:  34% (40/117)   \u001b[K\rremote: Counting objects:  35% (41/117)   \u001b[K\rremote: Counting objects:  36% (43/117)   \u001b[K\rremote: Counting objects:  37% (44/117)   \u001b[K\rremote: Counting objects:  38% (45/117)   \u001b[K\rremote: Counting objects:  39% (46/117)   \u001b[K\rremote: Counting objects:  40% (47/117)   \u001b[K\rremote: Counting objects:  41% (48/117)   \u001b[K\rremote: Counting objects:  42% (50/117)   \u001b[K\rremote: Counting objects:  43% (51/117)   \u001b[K\rremote: Counting objects:  44% (52/117)   \u001b[K\rremote: Counting objects:  45% (53/117)   \u001b[K\rremote: Counting objects:  46% (54/117)   \u001b[K\rremote: Counting objects:  47% (55/117)   \u001b[K\rremote: Counting objects:  48% (57/117)   \u001b[K\rremote: Counting objects:  49% (58/117)   \u001b[K\rremote: Counting objects:  50% (59/117)   \u001b[K\rremote: Counting objects:  51% (60/117)   \u001b[K\rremote: Counting objects:  52% (61/117)   \u001b[K\rremote: Counting objects:  53% (63/117)   \u001b[K\rremote: Counting objects:  54% (64/117)   \u001b[K\rremote: Counting objects:  55% (65/117)   \u001b[K\rremote: Counting objects:  56% (66/117)   \u001b[K\rremote: Counting objects:  57% (67/117)   \u001b[K\rremote: Counting objects:  58% (68/117)   \u001b[K\rremote: Counting objects:  59% (70/117)   \u001b[K\rremote: Counting objects:  60% (71/117)   \u001b[K\rremote: Counting objects:  61% (72/117)   \u001b[K\rremote: Counting objects:  62% (73/117)   \u001b[K\rremote: Counting objects:  63% (74/117)   \u001b[K\rremote: Counting objects:  64% (75/117)   \u001b[K\rremote: Counting objects:  65% (77/117)   \rremote: Counting objects:  66% (78/117)   \u001b[K\rremote: Counting objects:  67% (79/117)   \u001b[K\rremote: Counting objects:  68% (80/117)   \u001b[K\rremote: Counting objects:  69% (81/117)   \u001b[K\rremote: Counting objects:  70% (82/117)   \u001b[K\rremote: Counting objects:  71% (84/117)   \u001b[K\rremote: Counting objects:  72% (85/117)   \u001b[K\rremote: Counting objects:  73% (86/117)   \u001b[K\rremote: Counting objects:  74% (87/117)   \u001b[K\rremote: Counting objects:  75% (88/117)   \u001b[K\rremote: Counting objects:  76% (89/117)   \u001b[K\rremote: Counting objects:  77% (91/117)   \u001b[K\rremote: Counting objects:  78% (92/117)   \u001b[K\rremote: Counting objects:  79% (93/117)   \u001b[K\rremote: Counting objects:  80% (94/117)   \u001b[K\rremote: Counting objects:  81% (95/117)   \u001b[K\rremote: Counting objects:  82% (96/117)   \u001b[K\rremote: Counting objects:  83% (98/117)   \u001b[K\rremote: Counting objects:  84% (99/117)   \u001b[K\rremote: Counting objects:  85% (100/117)   \u001b[K\rremote: Counting objects:  86% (101/117)   \u001b[K\rremote: Counting objects:  87% (102/117)   \u001b[K\rremote: Counting objects:  88% (103/117)   \u001b[K\rremote: Counting objects:  89% (105/117)   \u001b[K\rremote: Counting objects:  90% (106/117)   \u001b[K\rremote: Counting objects:  91% (107/117)   \u001b[K\rremote: Counting objects:  92% (108/117)   \u001b[K\rremote: Counting objects:  93% (109/117)   \u001b[K\rremote: Counting objects:  94% (110/117)   \u001b[K\rremote: Counting objects:  95% (112/117)   \u001b[K\rremote: Counting objects:  96% (113/117)   \u001b[K\rremote: Counting objects:  97% (114/117)   \u001b[K\rremote: Counting objects:  98% (115/117)   \u001b[K\rremote: Counting objects:  99% (116/117)   \u001b[K\rremote: Counting objects: 100% (117/117)   \u001b[K\rremote: Counting objects: 100% (117/117), done.\u001b[K\n",
            "remote: Compressing objects:   0% (1/105)   \u001b[K\rremote: Compressing objects:   1% (2/105)   \u001b[K\rremote: Compressing objects:   2% (3/105)   \u001b[K\rremote: Compressing objects:   3% (4/105)   \u001b[K\rremote: Compressing objects:   4% (5/105)   \u001b[K\rremote: Compressing objects:   5% (6/105)   \u001b[K\rremote: Compressing objects:   6% (7/105)   \u001b[K\rremote: Compressing objects:   7% (8/105)   \u001b[K\rremote: Compressing objects:   8% (9/105)   \u001b[K\rremote: Compressing objects:   9% (10/105)   \u001b[K\rremote: Compressing objects:  10% (11/105)   \u001b[K\rremote: Compressing objects:  11% (12/105)   \u001b[K\rremote: Compressing objects:  12% (13/105)   \u001b[K\rremote: Compressing objects:  13% (14/105)   \u001b[K\rremote: Compressing objects:  14% (15/105)   \u001b[K\rremote: Compressing objects:  15% (16/105)   \u001b[K\rremote: Compressing objects:  16% (17/105)   \u001b[K\rremote: Compressing objects:  17% (18/105)   \u001b[K\rremote: Compressing objects:  18% (19/105)   \u001b[K\rremote: Compressing objects:  19% (20/105)   \u001b[K\rremote: Compressing objects:  20% (21/105)   \u001b[K\rremote: Compressing objects:  21% (23/105)   \u001b[K\rremote: Compressing objects:  22% (24/105)   \u001b[K\rremote: Compressing objects:  23% (25/105)   \u001b[K\rremote: Compressing objects:  24% (26/105)   \u001b[K\rremote: Compressing objects:  25% (27/105)   \u001b[K\rremote: Compressing objects:  26% (28/105)   \u001b[K\rremote: Compressing objects:  27% (29/105)   \u001b[K\rremote: Compressing objects:  28% (30/105)   \u001b[K\rremote: Compressing objects:  29% (31/105)   \u001b[K\rremote: Compressing objects:  30% (32/105)   \u001b[K\rremote: Compressing objects:  31% (33/105)   \u001b[K\rremote: Compressing objects:  32% (34/105)   \u001b[K\rremote: Compressing objects:  33% (35/105)   \u001b[K\rremote: Compressing objects:  34% (36/105)   \u001b[K\rremote: Compressing objects:  35% (37/105)   \u001b[K\rremote: Compressing objects:  36% (38/105)   \u001b[K\rremote: Compressing objects:  37% (39/105)   \u001b[K\rremote: Compressing objects:  38% (40/105)   \u001b[K\rremote: Compressing objects:  39% (41/105)   \u001b[K\rremote: Compressing objects:  40% (42/105)   \u001b[K\rremote: Compressing objects:  41% (44/105)   \u001b[K\rremote: Compressing objects:  42% (45/105)   \u001b[K\rremote: Compressing objects:  43% (46/105)   \u001b[K\rremote: Compressing objects:  44% (47/105)   \u001b[K\rremote: Compressing objects:  45% (48/105)   \u001b[K\rremote: Compressing objects:  46% (49/105)   \u001b[K\rremote: Compressing objects:  47% (50/105)   \u001b[K\rremote: Compressing objects:  48% (51/105)   \u001b[K\rremote: Compressing objects:  49% (52/105)   \u001b[K\rremote: Compressing objects:  50% (53/105)   \u001b[K\rremote: Compressing objects:  51% (54/105)   \u001b[K\rremote: Compressing objects:  52% (55/105)   \u001b[K\rremote: Compressing objects:  53% (56/105)   \u001b[K\rremote: Compressing objects:  54% (57/105)   \u001b[K\rremote: Compressing objects:  55% (58/105)   \u001b[K\rremote: Compressing objects:  56% (59/105)   \u001b[K\rremote: Compressing objects:  57% (60/105)   \u001b[K\rremote: Compressing objects:  58% (61/105)   \u001b[K\rremote: Compressing objects:  59% (62/105)   \u001b[K\rremote: Compressing objects:  60% (63/105)   \u001b[K\rremote: Compressing objects:  61% (65/105)   \u001b[K\rremote: Compressing objects:  62% (66/105)   \u001b[K\rremote: Compressing objects:  63% (67/105)   \u001b[K\rremote: Compressing objects:  64% (68/105)   \u001b[K\rremote: Compressing objects:  65% (69/105)   \u001b[K\rremote: Compressing objects:  66% (70/105)   \u001b[K\rremote: Compressing objects:  67% (71/105)   \u001b[K\rremote: Compressing objects:  68% (72/105)   \u001b[K\rremote: Compressing objects:  69% (73/105)   \u001b[K\rremote: Compressing objects:  70% (74/105)   \u001b[K\rremote: Compressing objects:  71% (75/105)   \u001b[K\rremote: Compressing objects:  72% (76/105)   \u001b[K\rremote: Compressing objects:  73% (77/105)   \u001b[K\rremote: Compressing objects:  74% (78/105)   \u001b[K\rremote: Compressing objects:  75% (79/105)   \u001b[K\rremote: Compressing objects:  76% (80/105)   \u001b[K\rremote: Compressing objects:  77% (81/105)   \u001b[K\rremote: Compressing objects:  78% (82/105)   \u001b[K\rremote: Compressing objects:  79% (83/105)   \u001b[K\rremote: Compressing objects:  80% (84/105)   \u001b[K\rremote: Compressing objects:  81% (86/105)   \u001b[K\rremote: Compressing objects:  82% (87/105)   \u001b[K\rremote: Compressing objects:  83% (88/105)   \u001b[K\rremote: Compressing objects:  84% (89/105)   \u001b[K\rremote: Compressing objects:  85% (90/105)   \u001b[K\rremote: Compressing objects:  86% (91/105)   \u001b[K\rremote: Compressing objects:  87% (92/105)   \u001b[K\rremote: Compressing objects:  88% (93/105)   \u001b[K\rremote: Compressing objects:  89% (94/105)   \u001b[K\rremote: Compressing objects:  90% (95/105)   \u001b[K\rremote: Compressing objects:  91% (96/105)   \u001b[K\rremote: Compressing objects:  92% (97/105)   \u001b[K\rremote: Compressing objects:  93% (98/105)   \u001b[K\rremote: Compressing objects:  94% (99/105)   \u001b[K\rremote: Compressing objects:  95% (100/105)   \u001b[K\rremote: Compressing objects:  96% (101/105)   \u001b[K\rremote: Compressing objects:  97% (102/105)   \u001b[K\rremote: Compressing objects:  98% (103/105)   \u001b[K\rremote: Compressing objects:  99% (104/105)   \u001b[K\rremote: Compressing objects: 100% (105/105)   \u001b[K\rremote: Compressing objects: 100% (105/105), done.\u001b[K\n",
            "Receiving objects:   0% (1/216)   \rReceiving objects:   1% (3/216)   \rReceiving objects:   2% (5/216)   \rReceiving objects:   3% (7/216)   \rReceiving objects:   4% (9/216)   \rReceiving objects:   5% (11/216)   \rReceiving objects:   6% (13/216)   \rReceiving objects:   7% (16/216)   \rReceiving objects:   8% (18/216)   \rReceiving objects:   9% (20/216)   \rReceiving objects:  10% (22/216)   \rReceiving objects:  11% (24/216)   \rReceiving objects:  12% (26/216)   \rReceiving objects:  13% (29/216)   \rReceiving objects:  14% (31/216)   \rReceiving objects:  15% (33/216)   \rReceiving objects:  16% (35/216)   \rReceiving objects:  17% (37/216)   \rReceiving objects:  18% (39/216)   \rReceiving objects:  19% (42/216)   \rReceiving objects:  20% (44/216)   \rReceiving objects:  21% (46/216)   \rReceiving objects:  22% (48/216)   \rReceiving objects:  23% (50/216)   \rReceiving objects:  24% (52/216)   \rReceiving objects:  25% (54/216)   \rReceiving objects:  26% (57/216)   \rReceiving objects:  27% (59/216)   \rReceiving objects:  28% (61/216)   \rReceiving objects:  29% (63/216)   \rReceiving objects:  30% (65/216)   \rReceiving objects:  31% (67/216)   \rReceiving objects:  32% (70/216)   \rReceiving objects:  33% (72/216)   \rReceiving objects:  34% (74/216)   \rReceiving objects:  35% (76/216)   \rReceiving objects:  36% (78/216)   \rReceiving objects:  37% (80/216)   \rReceiving objects:  38% (83/216)   \rReceiving objects:  39% (85/216)   \rReceiving objects:  40% (87/216)   \rReceiving objects:  41% (89/216)   \rReceiving objects:  42% (91/216)   \rReceiving objects:  43% (93/216)   \rReceiving objects:  44% (96/216)   \rReceiving objects:  45% (98/216)   \rReceiving objects:  46% (100/216)   \rReceiving objects:  47% (102/216)   \rReceiving objects:  48% (104/216)   \rReceiving objects:  49% (106/216)   \rReceiving objects:  50% (108/216)   \rReceiving objects:  51% (111/216)   \rReceiving objects:  52% (113/216)   \rReceiving objects:  53% (115/216)   \rReceiving objects:  54% (117/216)   \rReceiving objects:  55% (119/216)   \rReceiving objects:  56% (121/216)   \rReceiving objects:  57% (124/216)   \rReceiving objects:  58% (126/216)   \rReceiving objects:  59% (128/216)   \rReceiving objects:  60% (130/216)   \rReceiving objects:  61% (132/216)   \rReceiving objects:  62% (134/216)   \rReceiving objects:  63% (137/216)   \rReceiving objects:  64% (139/216)   \rReceiving objects:  65% (141/216)   \rReceiving objects:  66% (143/216)   \rReceiving objects:  67% (145/216)   \rremote: Total 216 (delta 49), reused 46 (delta 10), pack-reused 99\n",
            "Receiving objects:  68% (147/216)   \rReceiving objects:  69% (150/216)   \rReceiving objects:  70% (152/216)   \rReceiving objects:  71% (154/216)   \rReceiving objects:  72% (156/216)   \rReceiving objects:  73% (158/216)   \rReceiving objects:  74% (160/216)   \rReceiving objects:  75% (162/216)   \rReceiving objects:  76% (165/216)   \rReceiving objects:  77% (167/216)   \rReceiving objects:  78% (169/216)   \rReceiving objects:  79% (171/216)   \rReceiving objects:  80% (173/216)   \rReceiving objects:  81% (175/216)   \rReceiving objects:  82% (178/216)   \rReceiving objects:  83% (180/216)   \rReceiving objects:  84% (182/216)   \rReceiving objects:  85% (184/216)   \rReceiving objects:  86% (186/216)   \rReceiving objects:  87% (188/216)   \rReceiving objects:  88% (191/216)   \rReceiving objects:  89% (193/216)   \rReceiving objects:  90% (195/216)   \rReceiving objects:  91% (197/216)   \rReceiving objects:  92% (199/216)   \rReceiving objects:  93% (201/216)   \rReceiving objects:  94% (204/216)   \rReceiving objects:  95% (206/216)   \rReceiving objects:  96% (208/216)   \rReceiving objects:  97% (210/216)   \rReceiving objects:  98% (212/216)   \rReceiving objects:  99% (214/216)   \rReceiving objects: 100% (216/216)   \rReceiving objects: 100% (216/216), 1.02 MiB | 20.00 MiB/s, done.\n",
            "Resolving deltas:   0% (0/75)   \rResolving deltas:   1% (1/75)   \rResolving deltas:   2% (2/75)   \rResolving deltas:   6% (5/75)   \rResolving deltas:   8% (6/75)   \rResolving deltas:  12% (9/75)   \rResolving deltas:  18% (14/75)   \rResolving deltas:  20% (15/75)   \rResolving deltas:  21% (16/75)   \rResolving deltas:  22% (17/75)   \rResolving deltas:  26% (20/75)   \rResolving deltas:  28% (21/75)   \rResolving deltas:  29% (22/75)   \rResolving deltas:  66% (50/75)   \rResolving deltas:  72% (54/75)   \rResolving deltas:  73% (55/75)   \rResolving deltas:  77% (58/75)   \rResolving deltas:  80% (60/75)   \rResolving deltas:  85% (64/75)   \rResolving deltas:  86% (65/75)   \rResolving deltas:  88% (66/75)   \rResolving deltas:  89% (67/75)   \rResolving deltas:  92% (69/75)   \rResolving deltas:  93% (70/75)   \rResolving deltas:  94% (71/75)   \rResolving deltas: 100% (75/75)   \rResolving deltas: 100% (75/75), done.\n",
            "/content/MusicGenreClassification\n"
          ],
          "name": "stdout"
        }
      ]
    },
    {
      "cell_type": "code",
      "metadata": {
        "id": "FtjPYLk92N2Q",
        "colab_type": "code",
        "outputId": "559a5ce4-c738-4b3b-fa24-57dce1568dc5",
        "colab": {
          "base_uri": "https://localhost:8080/",
          "height": 105
        }
      },
      "source": [
        "!pip install efficientnet_pytorch # Required to install\n",
        "from model import dense161\n",
        "import torch\n",
        "device = torch.device(\"cuda\" if torch.cuda.is_available() else \"cpu\")\n",
        "model = dense161().to(device)"
      ],
      "execution_count": 0,
      "outputs": [
        {
          "output_type": "stream",
          "text": [
            "Requirement already satisfied: efficientnet_pytorch in /usr/local/lib/python3.6/dist-packages (0.3.0)\n",
            "Requirement already satisfied: torch in /usr/local/lib/python3.6/dist-packages (from efficientnet_pytorch) (1.1.0)\n",
            "Requirement already satisfied: numpy in /usr/local/lib/python3.6/dist-packages (from torch->efficientnet_pytorch) (1.16.4)\n"
          ],
          "name": "stdout"
        },
        {
          "output_type": "stream",
          "text": [
            "Downloading: \"https://download.pytorch.org/models/densenet161-8d451a50.pth\" to /root/.cache/torch/checkpoints/densenet161-8d451a50.pth\n",
            "100%|██████████| 115730790/115730790 [00:01<00:00, 75583904.70it/s]\n"
          ],
          "name": "stderr"
        }
      ]
    },
    {
      "cell_type": "code",
      "metadata": {
        "id": "ufjRlWwH2TLF",
        "colab_type": "code",
        "colab": {}
      },
      "source": [
        "from torch import nn\n",
        "model.load_state_dict(torch.load('/content/dense161.h5', map_location=lambda storage, loc: storage))\n",
        "model.eval() #To set model in evaluation model\n",
        "sm = nn.Softmax()"
      ],
      "execution_count": 0,
      "outputs": []
    },
    {
      "cell_type": "code",
      "metadata": {
        "id": "aPHOZx5l3FPW",
        "colab_type": "code",
        "colab": {}
      },
      "source": [
        "#Upload audio file and pass path to audio file\n",
        "import os\n",
        "path = '/content/Lately_Kind_of_Yeah_-_08_-_Aeronaut.mp3'\n",
        "#Output path for spectograms\n",
        "os.makedirs('/content/spec')\n",
        "out_path = '/content/spec'"
      ],
      "execution_count": 0,
      "outputs": []
    },
    {
      "cell_type": "code",
      "metadata": {
        "id": "_wDoVc8c3PT5",
        "colab_type": "code",
        "colab": {}
      },
      "source": [
        "from Data.data_preprocessing import Dataset"
      ],
      "execution_count": 0,
      "outputs": []
    },
    {
      "cell_type": "code",
      "metadata": {
        "id": "iWKLpPYI3X3z",
        "colab_type": "code",
        "outputId": "b1251f7b-c1e0-4a4a-bb1f-fb1555c93ebf",
        "colab": {
          "base_uri": "https://localhost:8080/",
          "height": 52
        }
      },
      "source": [
        "#Pass output path where u want to save the spectograms\n",
        "audio_data = Dataset()\n",
        "audio_data.spec_create(path,out_path)"
      ],
      "execution_count": 36,
      "outputs": [
        {
          "output_type": "stream",
          "text": [
            "/usr/local/lib/python3.6/dist-packages/matplotlib/tight_layout.py:231: UserWarning: tight_layout : falling back to Agg renderer\n",
            "  warnings.warn(\"tight_layout : falling back to Agg renderer\")\n"
          ],
          "name": "stderr"
        }
      ]
    },
    {
      "cell_type": "code",
      "metadata": {
        "id": "HArLeRL55PTJ",
        "colab_type": "code",
        "colab": {}
      },
      "source": [
        "#Label decoder used at the time of training\n",
        "decoder = {}\n",
        "decoder[0] ='Hip-Hop' \n",
        "decoder[1] = 'Pop'\n",
        "decoder[2] = 'Rock'\n",
        "decoder[3] = 'Experimental'\n",
        "decoder[4] = 'Folk'\n",
        "decoder[5] = 'Instrumental'\n",
        "decoder[6] = 'Electronic'\n",
        "decoder[7] = 'International'"
      ],
      "execution_count": 0,
      "outputs": []
    },
    {
      "cell_type": "code",
      "metadata": {
        "id": "YpcK-L3v5Y2t",
        "colab_type": "code",
        "colab": {}
      },
      "source": [
        "#image transformations\n",
        "from torchvision import transforms\n",
        "im_size = 128\n",
        "train_transforms = transforms.Compose([\n",
        "                                        transforms.ToPILImage(),\n",
        "                                        transforms.Resize((im_size,im_size)),\n",
        "                                        transforms.ToTensor(),\n",
        "                                        transforms.Normalize([0.5,0.5,0.5],[0.5,0.5,0.5])])"
      ],
      "execution_count": 0,
      "outputs": []
    },
    {
      "cell_type": "code",
      "metadata": {
        "id": "aI0BnVlc5fsP",
        "colab_type": "code",
        "colab": {}
      },
      "source": [
        "#Predicting for 10 spectograms created by 1 audio file\n",
        "import cv2\n",
        "import os\n",
        "from torch import nn\n",
        "\n",
        "def pred(img_path):\n",
        "  pred = list()\n",
        "  for i in range(10):\n",
        "    p1 = os.path.join(img_path,'spec_{}.png'.format(i))\n",
        "    img = cv2.imread(p1)\n",
        "    img = train_transforms(img)\n",
        "    img = img.expand(1,-1,-1,-1)\n",
        "    prediction = sm(model(img))\n",
        "    pred.append(int(prediction.detach().argmax(1)))\n",
        "  return pred"
      ],
      "execution_count": 0,
      "outputs": []
    },
    {
      "cell_type": "code",
      "metadata": {
        "id": "rIPLA3-47bdn",
        "colab_type": "code",
        "colab": {}
      },
      "source": [
        "def most_frequent(List): \n",
        "    counter = 0\n",
        "    num = List[0] \n",
        "      \n",
        "    for i in List: \n",
        "        curr_frequency = List.count(i) \n",
        "        if(curr_frequency> counter): \n",
        "            counter = curr_frequency \n",
        "            num = i \n",
        "    return num "
      ],
      "execution_count": 0,
      "outputs": []
    },
    {
      "cell_type": "code",
      "metadata": {
        "id": "i6M6EkJL-qsR",
        "colab_type": "code",
        "colab": {
          "base_uri": "https://localhost:8080/",
          "height": 72
        },
        "outputId": "c548bf58-60f2-4d02-d81b-35aedbae9c73"
      },
      "source": [
        "predictions = pred(out_path)"
      ],
      "execution_count": 41,
      "outputs": [
        {
          "output_type": "stream",
          "text": [
            "/usr/local/lib/python3.6/dist-packages/ipykernel_launcher.py:12: UserWarning: Implicit dimension choice for softmax has been deprecated. Change the call to include dim=X as an argument.\n",
            "  if sys.path[0] == '':\n"
          ],
          "name": "stderr"
        }
      ]
    },
    {
      "cell_type": "code",
      "metadata": {
        "id": "HO6NJ_Qf8xb1",
        "colab_type": "code",
        "outputId": "2596a482-202e-42d0-b5ed-e78d03c7bc06",
        "colab": {
          "base_uri": "https://localhost:8080/",
          "height": 35
        }
      },
      "source": [
        "print('Predicted Genre is:', decoder[most_frequent(predictions)])"
      ],
      "execution_count": 42,
      "outputs": [
        {
          "output_type": "stream",
          "text": [
            "Predicted Genre is: Experimental\n"
          ],
          "name": "stdout"
        }
      ]
    }
  ]
}